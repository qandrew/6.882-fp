{
 "cells": [
  {
   "cell_type": "code",
   "execution_count": 11,
   "metadata": {},
   "outputs": [],
   "source": [
    "import numpy as np\n",
    "import scipy as sc\n",
    "import pandas as pd\n",
    "import pymc3 as pm\n",
    "import matplotlib.pyplot as plt\n",
    "import seaborn as sns\n",
    "import csv\n",
    "import itertools\n",
    "%matplotlib inline"
   ]
  },
  {
   "cell_type": "code",
   "execution_count": 12,
   "metadata": {},
   "outputs": [],
   "source": [
    "from os import listdir\n",
    "from os.path import isfile, join\n",
    "path = '../RetweetDataAOAS/retweet_data/'\n",
    "root_tweet_names = [f for f in listdir(path) if isfile(join(path, f))]"
   ]
  },
  {
   "cell_type": "code",
   "execution_count": 13,
   "metadata": {},
   "outputs": [],
   "source": [
    "# Produces a dictionary of dataframes for each tweetfile, with initial \n",
    "# preprocessing\n",
    "fields = ['RetweetCount', 'UserId', 'ScreenName', 'FollowerCount', \n",
    "          'DistanceFromRoot','Time', 'ParentScreenName', 'Text']\n",
    "tweet_dfs = {}\n",
    "for i in range(len(root_tweet_names)):\n",
    "    tweet_df = pd.read_csv(path+root_tweet_names[i], sep=\"\\t\", header=None, \n",
    "                         quoting=csv.QUOTE_NONE, names=fields, encoding = \"ISO-8859-1\")\n",
    "    \n",
    "    tweet_df['Time'] = pd.to_datetime(tweet_df['Time'])\n",
    "\n",
    "    screen_name_index = {}\n",
    "    for index, row in tweet_df.iterrows():\n",
    "        screen_name_index[row['ScreenName']] = index\n",
    "    tweet_df['ParentDfIndex'] = tweet_df['ParentScreenName'].map(screen_name_index)\n",
    "    \n",
    "    tweet_dfs[i] = tweet_df"
   ]
  },
  {
   "cell_type": "code",
   "execution_count": 14,
   "metadata": {},
   "outputs": [],
   "source": [
    "# Returns a dictionary of reaction times S_j^x keyed by user id\n",
    "def generate_reaction_times(tweet_df):\n",
    "    reaction_times = {}\n",
    "    for index, row in tweet_df.iterrows():\n",
    "        if index > 0:\n",
    "            reaction_time = row['Time'] - tweet_df.at[row['ParentDfIndex'],\n",
    "                                                      'Time']\n",
    "            reaction_times[row['UserId']] = reaction_time\n",
    "    return reaction_times"
   ]
  },
  {
   "cell_type": "code",
   "execution_count": 15,
   "metadata": {},
   "outputs": [],
   "source": [
    "# Returns a dictionary of M_j^x keyed by user id\n",
    "def generate_number_of_follower_who_retweet(tweet_df):\n",
    "    number_of_follower_who_retweet = {}\n",
    "    for index, row in tweet_df.iterrows():\n",
    "        if row['UserId'] not in number_of_follower_who_retweet:\n",
    "            number_of_follower_who_retweet[row['UserId']] = 0\n",
    "        parent_user_id = tweet_df.at[row['ParentDfIndex'], 'UserId']\n",
    "        number_of_follower_who_retweet[parent_user_id] += 1\n",
    "    return number_of_follower_who_retweet"
   ]
  },
  {
   "cell_type": "code",
   "execution_count": 18,
   "metadata": {},
   "outputs": [],
   "source": [
    "tweet_df_1 = tweet_dfs[1]\n",
    "s_j_x = sorted(generate_reaction_times(tweet_df_1).values())\n",
    "log_s_j_x = [np.log(i.seconds) for i in s_j_x]\n",
    "tweet_df_1_users = list(tweet_df_1['UserId'])\n",
    "m_j_x_dic = generate_number_of_follower_who_retweet(tweet_df_1)\n",
    "m_j_x_lis = []\n",
    "for key in m_j_x_dic.keys():\n",
    "    m_j_x_lis.append(m_j_x_dic[key])"
   ]
  },
  {
   "cell_type": "code",
   "execution_count": 17,
   "metadata": {},
   "outputs": [
    {
     "name": "stdout",
     "output_type": "stream",
     "text": [
      "['Source_followers_tweet_0037_EvaLongoria.txt', 'Source_followers_tweet_0074_iamwill.txt', 'Source_followers_tweet_0074_Tip.txt', 'Source_followers_tweet_0161_SuckerFreeMTV2.txt', 'Source_followers_tweet_0304_KimKardashian.txt', 'Source_followers_tweet_0101_Pitbull.txt', 'Source_followers_tweet_0048_MissInfoTV.txt', 'Source_followers_tweet_0108_newtgingrich.txt', 'Source_followers_tweet_0142_myfabolouslife.txt', 'Source_followers_tweet_0044_JonnyBones.txt', 'Source_followers_tweet_0101_myfabolouslife.txt', 'Source_followers_tweet_0092_AnnCoulter.txt', 'Source_followers_tweet_0031_CNET.txt', 'Source_followers_tweet_0022_Lawrence.txt', 'Source_followers_tweet_0107_djkhaled.txt', 'Source_followers_tweet_0127_newtgingrich.txt', 'Source_followers_tweet_0734_rickyrozay.txt', 'Source_followers_tweet_0176_AnnCoulter.txt', 'Source_followers_tweet_0070_E40.txt', 'Source_followers_tweet_0462_AnnDRomney.txt', 'Source_followers_tweet_0167_rickyrozay.txt', 'Source_followers_tweet_0611_BarackObama.txt', 'Source_followers_tweet_0127_hilaryr.txt', 'Source_followers_tweet_0785_KimKardashian.txt', 'Source_followers_tweet_0165_GG.txt', 'Source_followers_tweet_0085_MrChuckD.txt', 'Source_followers_tweet_0212_jasonsegel.txt', 'Source_followers_tweet_0370_EvaLongoria.txt', 'Source_followers_tweet_0533_BarackObama.txt', 'Source_followers_tweet_0349_KimKardashian.txt', 'Source_followers_tweet_0069_bobatl.txt', 'Source_followers_tweet_0101_GarryShandling.txt', 'Source_followers_tweet_0026_realMickFoley.txt', 'Source_followers_tweet_0256_OFA.txt', 'Source_followers_tweet_1134_JLin7.txt', 'Source_followers_tweet_0506_billmaher.txt', 'Source_followers_tweet_0271_hilaryr.txt', 'Source_followers_tweet_0028_AnnCoulter.txt', 'Source_followers_tweet_0118_iamdiddy.txt', 'Source_followers_tweet_060_IAmJericho.txt', 'Source_followers_tweet_0024_pbsgwen.txt', 'Source_followers_tweet_0294_myfabolouslife.txt', 'Source_followers_tweet_0092_jasonsegel.txt', 'Source_followers_tweet_1267_TheRock.txt', 'Source_followers_tweet_0203_BarackObama.txt', 'Source_followers_tweet_0031_ASAPYams.txt', 'Source_followers_tweet_0189_sethmeyers21.txt', 'Source_followers_tweet_0091_CharlesMBlow.txt', 'Source_followers_tweet_0137_Therealkiss.txt', 'Source_followers_tweet_0306_foxnewsalert.txt', 'Source_followers_tweet_0608_rickyrozay.txt', 'Source_followers_tweet_0068_CharlesMBlow.txt']\n"
     ]
    }
   ],
   "source": [
    "print(root_tweet_names)"
   ]
  },
  {
   "cell_type": "code",
   "execution_count": null,
   "metadata": {},
   "outputs": [],
   "source": [
    "with pm.Model() as strawman_model:\n",
    "    lamb = pm.Gamma('lambda', alpha=1, beta=1./500)\n",
    "    m_preds = pm.Poisson(lambda = lamb, observed=m_j_x_lis, shape=len(m_j_x_lis))"
   ]
  }
 ],
 "metadata": {
  "kernelspec": {
   "display_name": "Python 3",
   "language": "python",
   "name": "python3"
  },
  "language_info": {
   "codemirror_mode": {
    "name": "ipython",
    "version": 3
   },
   "file_extension": ".py",
   "mimetype": "text/x-python",
   "name": "python",
   "nbconvert_exporter": "python",
   "pygments_lexer": "ipython3",
   "version": "3.6.5"
  }
 },
 "nbformat": 4,
 "nbformat_minor": 2
}
