{
 "cells": [
  {
   "cell_type": "code",
   "execution_count": 1,
   "metadata": {},
   "outputs": [],
   "source": [
    "import numpy as np\n",
    "import pandas as pd\n",
    "import pymc3 as pm\n",
    "import matplotlib.pyplot as plt\n",
    "import seaborn as sns\n",
    "import csv\n",
    "%matplotlib inline"
   ]
  },
  {
   "cell_type": "code",
   "execution_count": 2,
   "metadata": {},
   "outputs": [],
   "source": [
    "from os import listdir\n",
    "from os.path import isfile, join\n",
    "path = '../RetweetDataAOAS/retweet_data/'\n",
    "root_tweet_names = [f for f in listdir(path) if isfile(join(path, f))]\n",
    "num_root_tweets = len(root_tweet_names)"
   ]
  },
  {
   "cell_type": "code",
   "execution_count": 3,
   "metadata": {},
   "outputs": [],
   "source": [
    "# Produces a dictionary of dataframes for each tweetfile, with initial \n",
    "# preprocessing\n",
    "fields = ['RetweetCount', 'UserId', 'ScreenName', 'FollowerCount', \n",
    "          'DistanceFromRoot','Time', 'ParentScreenName', 'Text']\n",
    "tweet_dfs = []\n",
    "for i in range(num_root_tweets):\n",
    "    tweet_df = pd.read_csv(path+root_tweet_names[i], sep=\"\\t\", header=None, \n",
    "                         quoting=csv.QUOTE_NONE, names=fields, encoding = \"ISO-8859-1\")\n",
    "    \n",
    "    tweet_df['Time'] = pd.to_datetime(tweet_df['Time'])\n",
    "\n",
    "    screen_name_index = {}\n",
    "    for index, row in tweet_df.iterrows():\n",
    "        screen_name_index[row['ScreenName']] = index\n",
    "    tweet_df['ParentDfIndex'] = tweet_df['ParentScreenName'].map(screen_name_index)\n",
    "    \n",
    "    tweet_dfs.append(tweet_df)"
   ]
  },
  {
   "cell_type": "code",
   "execution_count": 4,
   "metadata": {},
   "outputs": [],
   "source": [
    "# Returns a dictionary of reaction times S_j^x keyed by user id\n",
    "def generate_reaction_times(tweet_df):\n",
    "    reaction_times = {}\n",
    "    for index, row in tweet_df.iterrows():\n",
    "        if index > 0:\n",
    "            reaction_time = row['Time'] - tweet_df.at[row['ParentDfIndex'],\n",
    "                                                      'Time']\n",
    "            reaction_times[row['UserId']] = reaction_time\n",
    "    return reaction_times"
   ]
  },
  {
   "cell_type": "code",
   "execution_count": 5,
   "metadata": {},
   "outputs": [],
   "source": [
    "# Returns a dictionary of M_j^x keyed by user id\n",
    "def generate_number_of_follower_who_retweet(tweet_df):\n",
    "    number_of_follower_who_retweet = {}\n",
    "    for index, row in tweet_df.iterrows():\n",
    "        if row['UserId'] not in number_of_follower_who_retweet:\n",
    "            number_of_follower_who_retweet[row['UserId']] = 0\n",
    "        parent_user_id = tweet_df.at[row['ParentDfIndex'], 'UserId']\n",
    "        number_of_follower_who_retweet[parent_user_id] += 1\n",
    "    return number_of_follower_who_retweet"
   ]
  },
  {
   "cell_type": "code",
   "execution_count": 6,
   "metadata": {
    "scrolled": true
   },
   "outputs": [],
   "source": [
    "log_s_j_x = []\n",
    "for i in range(num_root_tweets):\n",
    "    s_j_x = sorted(generate_reaction_times(tweet_dfs[i]).values())\n",
    "    log_s_j_x.append([np.log(i.seconds) for i in s_j_x])"
   ]
  },
  {
   "cell_type": "code",
   "execution_count": 8,
   "metadata": {},
   "outputs": [
    {
     "name": "stdout",
     "output_type": "stream",
     "text": [
      "7.7630535704 (2.30126652471)\n",
      "8.66574824056 (2.08190283732)\n",
      "7.06974474045 (1.95755497525)\n",
      "8.72126769419 (1.2168204579)\n",
      "7.47917776192 (1.85742874384)\n",
      "7.63218027453 (2.22797323033)\n",
      "6.95106539283 (2.72326223458)\n",
      "7.02855191854 (1.77220456665)\n",
      "6.03438767058 (1.6102895877)\n",
      "7.33992339908 (1.8133245605)\n",
      "6.82253918414 (1.90655028468)\n",
      "7.86957782596 (1.96614772919)\n",
      "7.49089012366 (1.56160861343)\n",
      "6.9569969216 (1.91246959961)\n",
      "7.33325224068 (2.35386272089)\n",
      "7.61342076773 (1.98749292318)\n",
      "6.79281312124 (2.40054382543)\n",
      "7.71603505468 (2.16760837591)\n",
      "6.45016566397 (1.81456597083)\n",
      "8.22575308589 (1.89652968124)\n",
      "6.1100679843 (2.05556980093)\n",
      "7.89079977067 (1.91900965403)\n",
      "7.69985857365 (2.55971593768)\n",
      "6.78997801138 (1.58719311135)\n",
      "6.75996188371 (1.97337495241)\n",
      "7.28340022464 (1.99949050843)\n",
      "7.36632066243 (1.87058630962)\n",
      "7.76282349379 (1.87473796799)\n",
      "7.34183510004 (1.61210032737)\n",
      "7.01868119366 (1.93805896034)\n",
      "7.34382247072 (2.4400622495)\n",
      "9.05973632767 (0.900112948761)\n",
      "6.98833218904 (2.28582272266)\n",
      "9.0762570917 (0.932868370962)\n",
      "6.98774696428 (2.15523491774)\n",
      "7.43375178993 (1.95297230634)\n",
      "7.97072840301 (1.95031302339)\n",
      "7.20923561432 (2.12964442574)\n",
      "7.04804635652 (1.9198550982)\n",
      "7.06082868852 (2.11551035376)\n",
      "5.99654042949 (1.83515178912)\n",
      "6.5954785933 (1.90848264212)\n",
      "7.70318503227 (2.00753957186)\n",
      "7.15065217668 (1.56916923902)\n",
      "7.55561736455 (1.98262713406)\n",
      "6.87701561659 (2.34385340562)\n",
      "8.09621163809 (1.51901925957)\n",
      "7.97908995007 (2.06067558661)\n",
      "6.32314480142 (1.81374719076)\n",
      "6.6123571564 (1.35263510927)\n",
      "6.25272753255 (2.14431040186)\n",
      "6.668617787 (1.92206047019)\n"
     ]
    }
   ],
   "source": [
    "for i in log_s_j_x:\n",
    "    print(str(np.mean(i)) + \" (\" + str(np.std(i)) + \")\")  "
   ]
  },
  {
   "cell_type": "code",
   "execution_count": 7,
   "metadata": {},
   "outputs": [],
   "source": [
    "# pymc3 model \n",
    "with pm.Model() as time_model:\n",
    "    # global model parameters\n",
    "    # Time-related hyperparameters\n",
    "    alpha = pm.Normal('alpha', mu=0, sd=100)\n",
    "    sigma_squared_delta = pm.InverseGamma('sigma_squared_delta', alpha=2, beta=2)\n",
    "    log_a_tau = pm.Normal('log_a_tau', mu=0, sd=10)\n",
    "    b_tau = pm.Gamma('b_tau', alpha=1, beta=.002)\n",
    "    \n",
    "    # log-normal model for reaction times, nonrecursive...\n",
    "    a_tau = pm.Deterministic('a_tau', pm.math.exp(log_a_tau))\n",
    "    for i in range(num_root_tweets):\n",
    "        t_x = pm.InverseGamma('tau_x_squared_' + str(i), alpha=a_tau, beta=b_tau)\n",
    "        a_x = pm.Normal('alpha_x_' + str(i), mu=alpha, tau=1/sigma_squared_delta)        \n",
    "        l_x = pm.Normal('log_s_j_x_' + str(i), mu=a_x, sd=t_x**0.5, observed=log_s_j_x[i])"
   ]
  },
  {
   "cell_type": "code",
   "execution_count": null,
   "metadata": {},
   "outputs": [],
   "source": [
    "with pm.Model() as graph_model:\n",
    "    # Graph-related hyperparameters\n",
    "    sigma_squared_b = pm.InverseGamma('sigma_squared_b', alpha=0.5, beta=0.5, testval=10000)\n",
    "    beta_0 = pm.Normal('beta_0', mu=0, tau=1/sigma_squared_b, testval=1.99)\n",
    "    beta_F = pm.Normal('beta_F', mu=0, tau=1/sigma_squared_b, testval=-0.79)\n",
    "    beta_d = pm.Normal('beta_d', mu=0, tau=1/sigma_squared_b, testval=)\n",
    "    \n",
    "    \n"
   ]
  },
  {
   "cell_type": "code",
   "execution_count": 13,
   "metadata": {},
   "outputs": [
    {
     "name": "stderr",
     "output_type": "stream",
     "text": [
      "Auto-assigning NUTS sampler...\n",
      "Initializing NUTS using jitter+adapt_diag...\n",
      "Multiprocess sampling (4 chains in 4 jobs)\n",
      "NUTS: [alpha_x_51, tau_x_squared_51_log__, alpha_x_50, tau_x_squared_50_log__, alpha_x_49, tau_x_squared_49_log__, alpha_x_48, tau_x_squared_48_log__, alpha_x_47, tau_x_squared_47_log__, alpha_x_46, tau_x_squared_46_log__, alpha_x_45, tau_x_squared_45_log__, alpha_x_44, tau_x_squared_44_log__, alpha_x_43, tau_x_squared_43_log__, alpha_x_42, tau_x_squared_42_log__, alpha_x_41, tau_x_squared_41_log__, alpha_x_40, tau_x_squared_40_log__, alpha_x_39, tau_x_squared_39_log__, alpha_x_38, tau_x_squared_38_log__, alpha_x_37, tau_x_squared_37_log__, alpha_x_36, tau_x_squared_36_log__, alpha_x_35, tau_x_squared_35_log__, alpha_x_34, tau_x_squared_34_log__, alpha_x_33, tau_x_squared_33_log__, alpha_x_32, tau_x_squared_32_log__, alpha_x_31, tau_x_squared_31_log__, alpha_x_30, tau_x_squared_30_log__, alpha_x_29, tau_x_squared_29_log__, alpha_x_28, tau_x_squared_28_log__, alpha_x_27, tau_x_squared_27_log__, alpha_x_26, tau_x_squared_26_log__, alpha_x_25, tau_x_squared_25_log__, alpha_x_24, tau_x_squared_24_log__, alpha_x_23, tau_x_squared_23_log__, alpha_x_22, tau_x_squared_22_log__, alpha_x_21, tau_x_squared_21_log__, alpha_x_20, tau_x_squared_20_log__, alpha_x_19, tau_x_squared_19_log__, alpha_x_18, tau_x_squared_18_log__, alpha_x_17, tau_x_squared_17_log__, alpha_x_16, tau_x_squared_16_log__, alpha_x_15, tau_x_squared_15_log__, alpha_x_14, tau_x_squared_14_log__, alpha_x_13, tau_x_squared_13_log__, alpha_x_12, tau_x_squared_12_log__, alpha_x_11, tau_x_squared_11_log__, alpha_x_10, tau_x_squared_10_log__, alpha_x_9, tau_x_squared_9_log__, alpha_x_8, tau_x_squared_8_log__, alpha_x_7, tau_x_squared_7_log__, alpha_x_6, tau_x_squared_6_log__, alpha_x_5, tau_x_squared_5_log__, alpha_x_4, tau_x_squared_4_log__, alpha_x_3, tau_x_squared_3_log__, alpha_x_2, tau_x_squared_2_log__, alpha_x_1, tau_x_squared_1_log__, alpha_x_0, tau_x_squared_0_log__, b_tau_log__, log_a_tau, sigma_squared_delta_log__, alpha]\n",
      "100%|██████████| 3000/3000 [02:30<00:00, 19.89it/s]\n",
      "There were 1 divergences after tuning. Increase `target_accept` or reparameterize.\n",
      "The acceptance probability does not match the target. It is 0.685410684496, but should be close to 0.8. Try to increase the number of tuning steps.\n",
      "There were 1 divergences after tuning. Increase `target_accept` or reparameterize.\n"
     ]
    }
   ],
   "source": [
    "# Run and fit our model\n",
    "with time_model:\n",
    "    trace = pm.sample(1000, tune=2000, cores=4)\n"
   ]
  },
  {
   "cell_type": "code",
   "execution_count": 32,
   "metadata": {},
   "outputs": [
    {
     "name": "stderr",
     "output_type": "stream",
     "text": [
      "/usr/local/lib/python3.6/site-packages/matplotlib/axes/_axes.py:6462: UserWarning: The 'normed' kwarg is deprecated, and has been replaced by the 'density' kwarg.\n",
      "  warnings.warn(\"The 'normed' kwarg is deprecated, and has been \"\n"
     ]
    },
    {
     "name": "stdout",
     "output_type": "stream",
     "text": [
      "alpha: 7.31643926259(0.102637427799)\n",
      "sigma_squared_delta: 0.542208463816(0.110461385695)\n",
      "a_tau: 5.76763305196(1.25616723428)\n",
      "b_tau: 19.0473806323(4.32872533425)\n"
     ]
    },
    {
     "data": {
      "image/png": "[encoded data removed]",
      "text/plain": [
       "<Figure size 576x576 with 8 Axes>"
      ]
     },
     "metadata": {},
     "output_type": "display_data"
    }
   ],
   "source": [
    "# graph all of the important distributions\n",
    "with twitter_model:\n",
    "    imp_dists = ['alpha', 'sigma_squared_delta', 'a_tau', 'b_tau']\n",
    "    fig, axs = plt.subplots(2,2, figsize = (8,8))\n",
    "    for i in range(len(imp_dists)):\n",
    "        ax1 = axs[int(i/2)][i%2]\n",
    "        ax2 = ax1.twinx()\n",
    "        ax2.set(ylim=(-.25, .25))\n",
    "        var = imp_dists[i]\n",
    "        sns.distplot(trace[var], ax=ax1).set_title(var);\n",
    "        sns.boxplot(trace[var], ax=ax2, notch=True)\n",
    "        print(var + \": \" + str(np.mean(trace[var])) + \"(\" + str(np.std(trace[var])) + \")\")\n"
   ]
  },
  {
   "cell_type": "code",
   "execution_count": null,
   "metadata": {},
   "outputs": [],
   "source": []
  }
 ],
 "metadata": {
  "kernelspec": {
   "display_name": "Python 3",
   "language": "python",
   "name": "python3"
  },
  "language_info": {
   "codemirror_mode": {
    "name": "ipython",
    "version": 3
   },
   "file_extension": ".py",
   "mimetype": "text/x-python",
   "name": "python",
   "nbconvert_exporter": "python",
   "pygments_lexer": "ipython3",
   "version": "3.6.5"
  }
 },
 "nbformat": 4,
 "nbformat_minor": 1
}
