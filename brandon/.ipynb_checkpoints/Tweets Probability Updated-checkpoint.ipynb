{
 "cells": [
  {
   "cell_type": "code",
   "execution_count": 1,
   "metadata": {},
   "outputs": [],
   "source": [
    "import numpy as np\n",
    "import pandas as pd\n",
    "import pymc3 as pm\n",
    "import matplotlib.pyplot as plt\n",
    "import seaborn as sns\n",
    "import csv\n",
    "%matplotlib inline"
   ]
  },
  {
   "cell_type": "code",
   "execution_count": 2,
   "metadata": {},
   "outputs": [],
   "source": [
    "from os import listdir\n",
    "from os.path import isfile, join\n",
    "path = '../RetweetDataAOAS/retweet_data/'\n",
    "root_tweet_names = [f for f in listdir(path) if isfile(join(path, f))]\n",
    "num_root_tweets = len(root_tweet_names)"
   ]
  },
  {
   "cell_type": "code",
   "execution_count": 3,
   "metadata": {},
   "outputs": [],
   "source": [
    "# Produces a dictionary of dataframes for each tweetfile, with initial \n",
    "# preprocessing\n",
    "fields = ['RetweetCount', 'UserId', 'ScreenName', 'FollowerCount', \n",
    "          'DistanceFromRoot','Time', 'ParentScreenName', 'Text']\n",
    "tweet_dfs = []\n",
    "for i in range(num_root_tweets):\n",
    "    tweet_df = pd.read_csv(path+root_tweet_names[i], sep=\"\\t\", header=None, \n",
    "                         quoting=csv.QUOTE_NONE, names=fields, encoding = \"ISO-8859-1\")\n",
    "    \n",
    "    tweet_df['Time'] = pd.to_datetime(tweet_df['Time'])\n",
    "\n",
    "    screen_name_index = {}\n",
    "    for index, row in tweet_df.iterrows():\n",
    "        screen_name_index[row['ScreenName']] = index\n",
    "        \n",
    "    tweet_df['ParentDfIndex'] = tweet_df['ParentScreenName'].map(screen_name_index)\n",
    "    \n",
    "    tweet_df[['FollowerCount','UserId']] = tweet_df[['FollowerCount','UserId']].apply(pd.to_numeric, errors='coerce')\n",
    "    tweet_df[['FollowerCount','UserId']] = tweet_df[['FollowerCount','UserId']].fillna(0)\n",
    "    \n",
    "    tweet_dfs.append(tweet_df)"
   ]
  },
  {
   "cell_type": "code",
   "execution_count": 4,
   "metadata": {},
   "outputs": [],
   "source": [
    "# Returns a dictionary of reaction times S_j^x keyed by user id\n",
    "def generate_reaction_times(tweet_df):\n",
    "    reaction_times = []\n",
    "    for index, row in tweet_df.iterrows():\n",
    "        if index > 0:\n",
    "            reaction_time = row['Time'] - tweet_df.at[row['ParentDfIndex'],\n",
    "                                                      'Time']\n",
    "            reaction_times.append(reaction_time)\n",
    "    return reaction_times"
   ]
  },
  {
   "cell_type": "code",
   "execution_count": 5,
   "metadata": {},
   "outputs": [],
   "source": [
    "# Returns a dictionary of M_j^x keyed by user id\n",
    "def generate_number_of_follower_who_retweet(tweet_df):\n",
    "    number_of_follower_who_retweet = {}\n",
    "    for index, row in tweet_df.iterrows():\n",
    "        if row['UserId'] not in number_of_follower_who_retweet:\n",
    "            number_of_follower_who_retweet[row['UserId']] = 0\n",
    "        parent_user_id = tweet_df.at[row['ParentDfIndex'], 'UserId']\n",
    "        number_of_follower_who_retweet[parent_user_id] += 1\n",
    "    return number_of_follower_who_retweet"
   ]
  },
  {
   "cell_type": "code",
   "execution_count": 10,
   "metadata": {},
   "outputs": [],
   "source": [
    "log_s_j_x = []\n",
    "for i in range(num_root_tweets):\n",
    "    s_j_x = sorted(generate_reaction_times(tweet_dfs[i]))\n",
    "    log_s_j_x.append([np.log(j.seconds) for j in s_j_x])\n",
    "fake_logs = [[1 for i in range(num_root_tweets)] for j in range(5)]"
   ]
  },
  {
   "cell_type": "code",
   "execution_count": 15,
   "metadata": {},
   "outputs": [
    {
     "data": {
      "text/plain": [
       "numpy.float64"
      ]
     },
     "execution_count": 15,
     "metadata": {},
     "output_type": "execute_result"
    }
   ],
   "source": [
    "type(log_s_j_x[0][1])"
   ]
  },
  {
   "cell_type": "code",
   "execution_count": 16,
   "metadata": {},
   "outputs": [],
   "source": [
    "# pymc3 model \n",
    "with pm.Model() as twitter_model:\n",
    "    # global model parameters\n",
    "    # Time-related hyperparameters\n",
    "    alpha = pm.Normal('alpha', mu=0, sd=100) #eq 5\n",
    "    sigma_squared_delta = pm.InverseGamma('sigma_squared_delta', alpha=2, beta=2) # eq 6\n",
    "    log_a_tau = pm.Normal('log_a_tau', mu=0, sd=10) # eq 7\n",
    "    b_tau = pm.Gamma('b_tau', alpha=1, beta=.002) # eq 8\n",
    "    \n",
    "    # binom model for graph structure\n",
    "    beta_0 = pm.Normal('beta_0', mu=0, sd=100) # eq 12\n",
    "    beta_F = pm.Normal('beta_F', mu=0, sd=100) # eq 13\n",
    "    beta_d = pm.Normal('beta_d', mu=0, sd=100) # eq 14\n",
    "    sigma_squared_b = pm.InverseGamma('sigma_squared_b', alpha=0.5, beta=0.5, testval=10000) # eq 15\n",
    "    \n",
    "    a_tau = pm.Deterministic('a_tau', pm.math.exp(log_a_tau))\n",
    "    \n",
    "    # tweet specific parameters, keyed by tweet x\n",
    "    t_x_dict = {}\n",
    "    a_x_dict = {}\n",
    "    log_s = {}\n",
    "    M_dict = {}\n",
    "    b_dict = {}\n",
    "    likelihood_training_tweets = {}\n",
    "    \n",
    "    for x in range(2): # num_root_tweets\n",
    "        # setting up observed data\n",
    "        tweet_df = tweet_dfs[x]\n",
    "        log_s = [np.log(i.seconds) for i in generate_reaction_times(tweet_df)]\n",
    "        tweet_df_users = list(tweet_df['UserId'])\n",
    "        num_followers = generate_number_of_follower_who_retweet(tweet_df)\n",
    "        \n",
    "        # log-normal model for reaction times\n",
    "        t_x_dict[x] = pm.InverseGamma('tau_{}_squared'.format(x), alpha=a_tau, beta=b_tau) # eq 4\n",
    "        a_x_dict[x] = pm.Normal('alpha_{}'.format(x), mu=alpha, tau=1/sigma_squared_delta) # eq 3\n",
    "        # log_s[x] = pm.Normal('log_s_{}'.format(x), mu=a_x_dict[x], tau=1/t_x_dict[x], observed=log_s) # eq 2\n",
    "        log_s[x] = {}\n",
    "        \n",
    "        # binomial model for retweet graph structure\n",
    "        M_dict[x] = {}\n",
    "        b_dict[x] = {}\n",
    "        \n",
    "        for j, row in tweet_dfs[x].iterrows():\n",
    "            if j > 10: \n",
    "                break # try for performance reasons\n",
    "            f_j_x = int(row['FollowerCount']) \n",
    "            d_j_x = row['DistanceFromRoot']\n",
    "            mu_j_x = pm.Deterministic('mu_{}_{}'.format(x,j), \n",
    "                    beta_0 + beta_F*pm.math.log(f_j_x + 1) + beta_d*pm.math.log(d_j_x + 1)) # eq 11\n",
    "            logit_b_j_x = pm.Normal('logit_b_{}_{}'.format(x,j), mu=mu_j_x, tau=1/sigma_squared_b) # eq 10\n",
    "            \n",
    "            b_dict[x][j] = pm.Deterministic('b_{}_{}'.format(x,j), pm.math.invlogit(logit_b_j_x))\n",
    "            \n",
    "            M_dict[x][j] = pm.Binomial('M_{}_{}'.format(x, j), n = f_j_x, p = b_dict[x][j], observed=num_followers[tweet_df_users[j]]) # eq 9\n",
    "            \n",
    "            log_s[x][j] = pm.Normal('log_s_{}_{}'.format(x, j), mu=a_x_dict[x], tau=t_x_dict[x]**0.5, observed=log_s_j_x[x][j]) # eq 2\n",
    "        \n",
    "#         # likelihood of observation\n",
    "#         likelihood_training_tweets[x] = M_dict[x][0]\n",
    "#         for j in range(1, len(tweet_dfs[x])): # len(tweet_dfs[x])\n",
    "#             likelihood_training_tweets[x] *= (log_s[x][j] * M_dict[x][j])\n",
    "        \n",
    "#         temp = pm.Deterministic('obs_likelihood_{}'.format(x), likelihood_training_tweets[x])\n"
   ]
  },
  {
   "cell_type": "code",
   "execution_count": 17,
   "metadata": {},
   "outputs": [
    {
     "name": "stderr",
     "output_type": "stream",
     "text": [
      "Auto-assigning NUTS sampler...\n",
      "Initializing NUTS using jitter+adapt_diag...\n",
      "Multiprocess sampling (4 chains in 4 jobs)\n",
      "NUTS: [logit_b_1_10, logit_b_1_9, logit_b_1_8, logit_b_1_7, logit_b_1_6, logit_b_1_5, logit_b_1_4, logit_b_1_3, logit_b_1_2, logit_b_1_1, logit_b_1_0, alpha_1, tau_1_squared_log__, logit_b_0_10, logit_b_0_9, logit_b_0_8, logit_b_0_7, logit_b_0_6, logit_b_0_5, logit_b_0_4, logit_b_0_3, logit_b_0_2, logit_b_0_1, logit_b_0_0, alpha_0, tau_0_squared_log__, sigma_squared_b_log__, beta_d, beta_F, beta_0, b_tau_log__, log_a_tau, sigma_squared_delta_log__, alpha]\n",
      "100%|██████████| 2000/2000 [03:16<00:00, 10.20it/s]\n",
      "There were 941 divergences after tuning. Increase `target_accept` or reparameterize.\n",
      "The acceptance probability does not match the target. It is 0.0621428007993, but should be close to 0.8. Try to increase the number of tuning steps.\n",
      "There were 133 divergences after tuning. Increase `target_accept` or reparameterize.\n",
      "The chain reached the maximum tree depth. Increase max_treedepth, increase target_accept or reparameterize.\n",
      "There were 212 divergences after tuning. Increase `target_accept` or reparameterize.\n",
      "The chain reached the maximum tree depth. Increase max_treedepth, increase target_accept or reparameterize.\n",
      "There were 186 divergences after tuning. Increase `target_accept` or reparameterize.\n",
      "The chain reached the maximum tree depth. Increase max_treedepth, increase target_accept or reparameterize.\n",
      "The gelman-rubin statistic is larger than 1.05 for some parameters. This indicates slight problems during sampling.\n",
      "The estimated number of effective samples is smaller than 200 for some parameters.\n"
     ]
    }
   ],
   "source": [
    "# run model\n",
    "with twitter_model:\n",
    "    trace = pm.sample(1000,tune=1000, cores=4)"
   ]
  },
  {
   "cell_type": "code",
   "execution_count": 11,
   "metadata": {},
   "outputs": [
    {
     "name": "stdout",
     "output_type": "stream",
     "text": [
      "alpha: 7.15374328055(1.33883075732)\n",
      "sigma_squared_delta: 1.71921099439(2.04815422412)\n",
      "a_tau: 2433.86258383(2768.67053118)\n",
      "b_tau: 401.920493813(455.171184583)\n"
     ]
    },
    {
     "data": {
      "image/png": "[encoded data removed]",
      "text/plain": [
       "<matplotlib.figure.Figure at 0x7fa50625cb10>"
      ]
     },
     "metadata": {},
     "output_type": "display_data"
    }
   ],
   "source": [
    "# printing \n",
    "with twitter_model:\n",
    "    imp_dists = ['alpha', 'sigma_squared_delta', 'a_tau', 'b_tau']\n",
    "#                 'beta_0', 'beta_F', 'beta_d']\n",
    "    fig, axs = plt.subplots(ncols=len(imp_dists))\n",
    "    for i in range(len(imp_dists)):\n",
    "        var = imp_dists[i]\n",
    "        sns.distplot(trace[var], ax=axs[i]);\n",
    "        print(var + \": \" + str(np.mean(trace[var])) + \"(\" + str(np.std(trace[var])) + \")\")\n"
   ]
  },
  {
   "cell_type": "code",
   "execution_count": 18,
   "metadata": {
    "scrolled": false
   },
   "outputs": [
    {
     "data": {
      "text/plain": [
       "array([[<matplotlib.axes._subplots.AxesSubplot object at 0x130f1f240>,\n",
       "        <matplotlib.axes._subplots.AxesSubplot object at 0x130f5f4a8>],\n",
       "       [<matplotlib.axes._subplots.AxesSubplot object at 0x130f8b780>,\n",
       "        <matplotlib.axes._subplots.AxesSubplot object at 0x130fb2a58>],\n",
       "       [<matplotlib.axes._subplots.AxesSubplot object at 0x130fdcd68>,\n",
       "        <matplotlib.axes._subplots.AxesSubplot object at 0x131011048>],\n",
       "       [<matplotlib.axes._subplots.AxesSubplot object at 0x131037320>,\n",
       "        <matplotlib.axes._subplots.AxesSubplot object at 0x1310625f8>],\n",
       "       [<matplotlib.axes._subplots.AxesSubplot object at 0x13108a8d0>,\n",
       "        <matplotlib.axes._subplots.AxesSubplot object at 0x1310b2ba8>],\n",
       "       [<matplotlib.axes._subplots.AxesSubplot object at 0x1310dae80>,\n",
       "        <matplotlib.axes._subplots.AxesSubplot object at 0x13110e198>],\n",
       "       [<matplotlib.axes._subplots.AxesSubplot object at 0x131135470>,\n",
       "        <matplotlib.axes._subplots.AxesSubplot object at 0x131160748>],\n",
       "       [<matplotlib.axes._subplots.AxesSubplot object at 0x131187a20>,\n",
       "        <matplotlib.axes._subplots.AxesSubplot object at 0x1311b1cf8>],\n",
       "       [<matplotlib.axes._subplots.AxesSubplot object at 0x1311d9fd0>,\n",
       "        <matplotlib.axes._subplots.AxesSubplot object at 0x13120c2e8>],\n",
       "       [<matplotlib.axes._subplots.AxesSubplot object at 0x1312335c0>,\n",
       "        <matplotlib.axes._subplots.AxesSubplot object at 0x13125c898>],\n",
       "       [<matplotlib.axes._subplots.AxesSubplot object at 0x131285b70>,\n",
       "        <matplotlib.axes._subplots.AxesSubplot object at 0x1312b0e48>],\n",
       "       [<matplotlib.axes._subplots.AxesSubplot object at 0x1312e1160>,\n",
       "        <matplotlib.axes._subplots.AxesSubplot object at 0x13130a438>],\n",
       "       [<matplotlib.axes._subplots.AxesSubplot object at 0x131333710>,\n",
       "        <matplotlib.axes._subplots.AxesSubplot object at 0x13135c9e8>],\n",
       "       [<matplotlib.axes._subplots.AxesSubplot object at 0x131384cc0>,\n",
       "        <matplotlib.axes._subplots.AxesSubplot object at 0x1313b0f98>],\n",
       "       [<matplotlib.axes._subplots.AxesSubplot object at 0x1313e12b0>,\n",
       "        <matplotlib.axes._subplots.AxesSubplot object at 0x13140a588>],\n",
       "       [<matplotlib.axes._subplots.AxesSubplot object at 0x131435860>,\n",
       "        <matplotlib.axes._subplots.AxesSubplot object at 0x13145cb38>],\n",
       "       [<matplotlib.axes._subplots.AxesSubplot object at 0x131485e10>,\n",
       "        <matplotlib.axes._subplots.AxesSubplot object at 0x1314b7128>],\n",
       "       [<matplotlib.axes._subplots.AxesSubplot object at 0x1314df400>,\n",
       "        <matplotlib.axes._subplots.AxesSubplot object at 0x1315076d8>],\n",
       "       [<matplotlib.axes._subplots.AxesSubplot object at 0x1315309b0>,\n",
       "        <matplotlib.axes._subplots.AxesSubplot object at 0x13155ac88>],\n",
       "       [<matplotlib.axes._subplots.AxesSubplot object at 0x131583f60>,\n",
       "        <matplotlib.axes._subplots.AxesSubplot object at 0x1315b4278>],\n",
       "       [<matplotlib.axes._subplots.AxesSubplot object at 0x1315de550>,\n",
       "        <matplotlib.axes._subplots.AxesSubplot object at 0x131606828>],\n",
       "       [<matplotlib.axes._subplots.AxesSubplot object at 0x131630b00>,\n",
       "        <matplotlib.axes._subplots.AxesSubplot object at 0x131659dd8>],\n",
       "       [<matplotlib.axes._subplots.AxesSubplot object at 0x13168a0f0>,\n",
       "        <matplotlib.axes._subplots.AxesSubplot object at 0x1316b33c8>],\n",
       "       [<matplotlib.axes._subplots.AxesSubplot object at 0x1316de6a0>,\n",
       "        <matplotlib.axes._subplots.AxesSubplot object at 0x131703978>],\n",
       "       [<matplotlib.axes._subplots.AxesSubplot object at 0x13172ec50>,\n",
       "        <matplotlib.axes._subplots.AxesSubplot object at 0x131759f28>],\n",
       "       [<matplotlib.axes._subplots.AxesSubplot object at 0x131789240>,\n",
       "        <matplotlib.axes._subplots.AxesSubplot object at 0x1317b2518>],\n",
       "       [<matplotlib.axes._subplots.AxesSubplot object at 0x1317dd7f0>,\n",
       "        <matplotlib.axes._subplots.AxesSubplot object at 0x131805ac8>],\n",
       "       [<matplotlib.axes._subplots.AxesSubplot object at 0x131830da0>,\n",
       "        <matplotlib.axes._subplots.AxesSubplot object at 0x1318650b8>],\n",
       "       [<matplotlib.axes._subplots.AxesSubplot object at 0x13188c390>,\n",
       "        <matplotlib.axes._subplots.AxesSubplot object at 0x1318b4668>],\n",
       "       [<matplotlib.axes._subplots.AxesSubplot object at 0x1318dd940>,\n",
       "        <matplotlib.axes._subplots.AxesSubplot object at 0x131909c18>],\n",
       "       [<matplotlib.axes._subplots.AxesSubplot object at 0x131931ef0>,\n",
       "        <matplotlib.axes._subplots.AxesSubplot object at 0x131965208>],\n",
       "       [<matplotlib.axes._subplots.AxesSubplot object at 0x13198f4e0>,\n",
       "        <matplotlib.axes._subplots.AxesSubplot object at 0x1319b67b8>],\n",
       "       [<matplotlib.axes._subplots.AxesSubplot object at 0x1319e0a90>,\n",
       "        <matplotlib.axes._subplots.AxesSubplot object at 0x131a0bd68>],\n",
       "       [<matplotlib.axes._subplots.AxesSubplot object at 0x131a3f080>,\n",
       "        <matplotlib.axes._subplots.AxesSubplot object at 0x131a67358>],\n",
       "       [<matplotlib.axes._subplots.AxesSubplot object at 0x131a90630>,\n",
       "        <matplotlib.axes._subplots.AxesSubplot object at 0x131ab9908>],\n",
       "       [<matplotlib.axes._subplots.AxesSubplot object at 0x131ae2be0>,\n",
       "        <matplotlib.axes._subplots.AxesSubplot object at 0x131b0feb8>],\n",
       "       [<matplotlib.axes._subplots.AxesSubplot object at 0x131b3f1d0>,\n",
       "        <matplotlib.axes._subplots.AxesSubplot object at 0x131b694a8>],\n",
       "       [<matplotlib.axes._subplots.AxesSubplot object at 0x131b93780>,\n",
       "        <matplotlib.axes._subplots.AxesSubplot object at 0x131bbda58>],\n",
       "       [<matplotlib.axes._subplots.AxesSubplot object at 0x131be4d30>,\n",
       "        <matplotlib.axes._subplots.AxesSubplot object at 0x131c1b048>],\n",
       "       [<matplotlib.axes._subplots.AxesSubplot object at 0x131c44320>,\n",
       "        <matplotlib.axes._subplots.AxesSubplot object at 0x131c6d5f8>],\n",
       "       [<matplotlib.axes._subplots.AxesSubplot object at 0x131c948d0>,\n",
       "        <matplotlib.axes._subplots.AxesSubplot object at 0x131cbfba8>],\n",
       "       [<matplotlib.axes._subplots.AxesSubplot object at 0x131ce8e80>,\n",
       "        <matplotlib.axes._subplots.AxesSubplot object at 0x131d1b198>],\n",
       "       [<matplotlib.axes._subplots.AxesSubplot object at 0x131d46470>,\n",
       "        <matplotlib.axes._subplots.AxesSubplot object at 0x131d6e748>],\n",
       "       [<matplotlib.axes._subplots.AxesSubplot object at 0x131d96a20>,\n",
       "        <matplotlib.axes._subplots.AxesSubplot object at 0x131dc2cf8>],\n",
       "       [<matplotlib.axes._subplots.AxesSubplot object at 0x131decfd0>,\n",
       "        <matplotlib.axes._subplots.AxesSubplot object at 0x131e1e2e8>],\n",
       "       [<matplotlib.axes._subplots.AxesSubplot object at 0x131e465c0>,\n",
       "        <matplotlib.axes._subplots.AxesSubplot object at 0x131e6e898>],\n",
       "       [<matplotlib.axes._subplots.AxesSubplot object at 0x131e99b70>,\n",
       "        <matplotlib.axes._subplots.AxesSubplot object at 0x131ec3e48>],\n",
       "       [<matplotlib.axes._subplots.AxesSubplot object at 0x131ef6160>,\n",
       "        <matplotlib.axes._subplots.AxesSubplot object at 0x131f21438>],\n",
       "       [<matplotlib.axes._subplots.AxesSubplot object at 0x131f49710>,\n",
       "        <matplotlib.axes._subplots.AxesSubplot object at 0x131f72da0>],\n",
       "       [<matplotlib.axes._subplots.AxesSubplot object at 0x131fa2470>,\n",
       "        <matplotlib.axes._subplots.AxesSubplot object at 0x131fcab00>],\n",
       "       [<matplotlib.axes._subplots.AxesSubplot object at 0x131ffc1d0>,\n",
       "        <matplotlib.axes._subplots.AxesSubplot object at 0x132022860>],\n",
       "       [<matplotlib.axes._subplots.AxesSubplot object at 0x13204bef0>,\n",
       "        <matplotlib.axes._subplots.AxesSubplot object at 0x13207c5c0>],\n",
       "       [<matplotlib.axes._subplots.AxesSubplot object at 0x1320a2c50>,\n",
       "        <matplotlib.axes._subplots.AxesSubplot object at 0x1320d2320>],\n",
       "       [<matplotlib.axes._subplots.AxesSubplot object at 0x1320fc9b0>,\n",
       "        <matplotlib.axes._subplots.AxesSubplot object at 0x13212d080>],\n",
       "       [<matplotlib.axes._subplots.AxesSubplot object at 0x130d4e9e8>,\n",
       "        <matplotlib.axes._subplots.AxesSubplot object at 0x12ef56048>],\n",
       "       [<matplotlib.axes._subplots.AxesSubplot object at 0x12eb35550>,\n",
       "        <matplotlib.axes._subplots.AxesSubplot object at 0x125f14128>],\n",
       "       [<matplotlib.axes._subplots.AxesSubplot object at 0x130084a90>,\n",
       "        <matplotlib.axes._subplots.AxesSubplot object at 0x1300595c0>],\n",
       "       [<matplotlib.axes._subplots.AxesSubplot object at 0x130029588>,\n",
       "        <matplotlib.axes._subplots.AxesSubplot object at 0x12fffcb38>],\n",
       "       [<matplotlib.axes._subplots.AxesSubplot object at 0x12ffcaac8>,\n",
       "        <matplotlib.axes._subplots.AxesSubplot object at 0x12ffa5780>],\n",
       "       [<matplotlib.axes._subplots.AxesSubplot object at 0x12ff622e8>,\n",
       "        <matplotlib.axes._subplots.AxesSubplot object at 0x12ff1d6d8>],\n",
       "       [<matplotlib.axes._subplots.AxesSubplot object at 0x12fed69e8>,\n",
       "        <matplotlib.axes._subplots.AxesSubplot object at 0x12fbfa6a0>],\n",
       "       [<matplotlib.axes._subplots.AxesSubplot object at 0x12fba1da0>,\n",
       "        <matplotlib.axes._subplots.AxesSubplot object at 0x12fb57630>],\n",
       "       [<matplotlib.axes._subplots.AxesSubplot object at 0x12faf1c18>,\n",
       "        <matplotlib.axes._subplots.AxesSubplot object at 0x12fab9160>],\n",
       "       [<matplotlib.axes._subplots.AxesSubplot object at 0x12fa7d080>,\n",
       "        <matplotlib.axes._subplots.AxesSubplot object at 0x12fa422b0>],\n",
       "       [<matplotlib.axes._subplots.AxesSubplot object at 0x12f9f72e8>,\n",
       "        <matplotlib.axes._subplots.AxesSubplot object at 0x12f9ce198>],\n",
       "       [<matplotlib.axes._subplots.AxesSubplot object at 0x12f999da0>,\n",
       "        <matplotlib.axes._subplots.AxesSubplot object at 0x12f96e128>],\n",
       "       [<matplotlib.axes._subplots.AxesSubplot object at 0x12f94bf28>,\n",
       "        <matplotlib.axes._subplots.AxesSubplot object at 0x12fdf2320>],\n",
       "       [<matplotlib.axes._subplots.AxesSubplot object at 0x12fda79e8>,\n",
       "        <matplotlib.axes._subplots.AxesSubplot object at 0x12fd5eda0>],\n",
       "       [<matplotlib.axes._subplots.AxesSubplot object at 0x12fd239b0>,\n",
       "        <matplotlib.axes._subplots.AxesSubplot object at 0x12fcd9438>],\n",
       "       [<matplotlib.axes._subplots.AxesSubplot object at 0x12fc91908>,\n",
       "        <matplotlib.axes._subplots.AxesSubplot object at 0x12fc4add8>],\n",
       "       [<matplotlib.axes._subplots.AxesSubplot object at 0x12de4e518>,\n",
       "        <matplotlib.axes._subplots.AxesSubplot object at 0x12de94198>],\n",
       "       [<matplotlib.axes._subplots.AxesSubplot object at 0x12dedab38>,\n",
       "        <matplotlib.axes._subplots.AxesSubplot object at 0x12db7d5c0>],\n",
       "       [<matplotlib.axes._subplots.AxesSubplot object at 0x12db25f98>,\n",
       "        <matplotlib.axes._subplots.AxesSubplot object at 0x12dadb438>],\n",
       "       [<matplotlib.axes._subplots.AxesSubplot object at 0x12cb14f60>,\n",
       "        <matplotlib.axes._subplots.AxesSubplot object at 0x12cb4fc50>],\n",
       "       [<matplotlib.axes._subplots.AxesSubplot object at 0x12cb95860>,\n",
       "        <matplotlib.axes._subplots.AxesSubplot object at 0x12c82c4e0>],\n",
       "       [<matplotlib.axes._subplots.AxesSubplot object at 0x12c7e4a20>,\n",
       "        <matplotlib.axes._subplots.AxesSubplot object at 0x12c78bf28>],\n",
       "       [<matplotlib.axes._subplots.AxesSubplot object at 0x12dd8c860>,\n",
       "        <matplotlib.axes._subplots.AxesSubplot object at 0x12dd51080>],\n",
       "       [<matplotlib.axes._subplots.AxesSubplot object at 0x12dd05978>,\n",
       "        <matplotlib.axes._subplots.AxesSubplot object at 0x12dcbec18>],\n",
       "       [<matplotlib.axes._subplots.AxesSubplot object at 0x12dc74ef0>,\n",
       "        <matplotlib.axes._subplots.AxesSubplot object at 0x12dc39278>]], dtype=object)"
      ]
     },
     "execution_count": 18,
     "metadata": {},
     "output_type": "execute_result"
    },
    {
     "ename": "ValueError",
     "evalue": "Image size of 408630x11368 pixels is too large. It must be less than 2^16 in each direction.",
     "output_type": "error",
     "traceback": [
      "\u001b[0;31m---------------------------------------------------------------------------\u001b[0m",
      "\u001b[0;31mValueError\u001b[0m                                Traceback (most recent call last)",
      "\u001b[0;32m/usr/local/lib/python3.6/site-packages/IPython/core/formatters.py\u001b[0m in \u001b[0;36m__call__\u001b[0;34m(self, obj)\u001b[0m\n\u001b[1;32m    339\u001b[0m                 \u001b[0;32mpass\u001b[0m\u001b[0;34m\u001b[0m\u001b[0m\n\u001b[1;32m    340\u001b[0m             \u001b[0;32melse\u001b[0m\u001b[0;34m:\u001b[0m\u001b[0;34m\u001b[0m\u001b[0m\n\u001b[0;32m--> 341\u001b[0;31m                 \u001b[0;32mreturn\u001b[0m \u001b[0mprinter\u001b[0m\u001b[0;34m(\u001b[0m\u001b[0mobj\u001b[0m\u001b[0;34m)\u001b[0m\u001b[0;34m\u001b[0m\u001b[0m\n\u001b[0m\u001b[1;32m    342\u001b[0m             \u001b[0;31m# Finally look for special method names\u001b[0m\u001b[0;34m\u001b[0m\u001b[0;34m\u001b[0m\u001b[0m\n\u001b[1;32m    343\u001b[0m             \u001b[0mmethod\u001b[0m \u001b[0;34m=\u001b[0m \u001b[0mget_real_method\u001b[0m\u001b[0;34m(\u001b[0m\u001b[0mobj\u001b[0m\u001b[0;34m,\u001b[0m \u001b[0mself\u001b[0m\u001b[0;34m.\u001b[0m\u001b[0mprint_method\u001b[0m\u001b[0;34m)\u001b[0m\u001b[0;34m\u001b[0m\u001b[0m\n",
      "\u001b[0;32m/usr/local/lib/python3.6/site-packages/IPython/core/pylabtools.py\u001b[0m in \u001b[0;36m<lambda>\u001b[0;34m(fig)\u001b[0m\n\u001b[1;32m    239\u001b[0m \u001b[0;34m\u001b[0m\u001b[0m\n\u001b[1;32m    240\u001b[0m     \u001b[0;32mif\u001b[0m \u001b[0;34m'png'\u001b[0m \u001b[0;32min\u001b[0m \u001b[0mformats\u001b[0m\u001b[0;34m:\u001b[0m\u001b[0;34m\u001b[0m\u001b[0m\n\u001b[0;32m--> 241\u001b[0;31m         \u001b[0mpng_formatter\u001b[0m\u001b[0;34m.\u001b[0m\u001b[0mfor_type\u001b[0m\u001b[0;34m(\u001b[0m\u001b[0mFigure\u001b[0m\u001b[0;34m,\u001b[0m \u001b[0;32mlambda\u001b[0m \u001b[0mfig\u001b[0m\u001b[0;34m:\u001b[0m \u001b[0mprint_figure\u001b[0m\u001b[0;34m(\u001b[0m\u001b[0mfig\u001b[0m\u001b[0;34m,\u001b[0m \u001b[0;34m'png'\u001b[0m\u001b[0;34m,\u001b[0m \u001b[0;34m**\u001b[0m\u001b[0mkwargs\u001b[0m\u001b[0;34m)\u001b[0m\u001b[0;34m)\u001b[0m\u001b[0;34m\u001b[0m\u001b[0m\n\u001b[0m\u001b[1;32m    242\u001b[0m     \u001b[0;32mif\u001b[0m \u001b[0;34m'retina'\u001b[0m \u001b[0;32min\u001b[0m \u001b[0mformats\u001b[0m \u001b[0;32mor\u001b[0m \u001b[0;34m'png2x'\u001b[0m \u001b[0;32min\u001b[0m \u001b[0mformats\u001b[0m\u001b[0;34m:\u001b[0m\u001b[0;34m\u001b[0m\u001b[0m\n\u001b[1;32m    243\u001b[0m         \u001b[0mpng_formatter\u001b[0m\u001b[0;34m.\u001b[0m\u001b[0mfor_type\u001b[0m\u001b[0;34m(\u001b[0m\u001b[0mFigure\u001b[0m\u001b[0;34m,\u001b[0m \u001b[0;32mlambda\u001b[0m \u001b[0mfig\u001b[0m\u001b[0;34m:\u001b[0m \u001b[0mretina_figure\u001b[0m\u001b[0;34m(\u001b[0m\u001b[0mfig\u001b[0m\u001b[0;34m,\u001b[0m \u001b[0;34m**\u001b[0m\u001b[0mkwargs\u001b[0m\u001b[0;34m)\u001b[0m\u001b[0;34m)\u001b[0m\u001b[0;34m\u001b[0m\u001b[0m\n",
      "\u001b[0;32m/usr/local/lib/python3.6/site-packages/IPython/core/pylabtools.py\u001b[0m in \u001b[0;36mprint_figure\u001b[0;34m(fig, fmt, bbox_inches, **kwargs)\u001b[0m\n\u001b[1;32m    123\u001b[0m \u001b[0;34m\u001b[0m\u001b[0m\n\u001b[1;32m    124\u001b[0m     \u001b[0mbytes_io\u001b[0m \u001b[0;34m=\u001b[0m \u001b[0mBytesIO\u001b[0m\u001b[0;34m(\u001b[0m\u001b[0;34m)\u001b[0m\u001b[0;34m\u001b[0m\u001b[0m\n\u001b[0;32m--> 125\u001b[0;31m     \u001b[0mfig\u001b[0m\u001b[0;34m.\u001b[0m\u001b[0mcanvas\u001b[0m\u001b[0;34m.\u001b[0m\u001b[0mprint_figure\u001b[0m\u001b[0;34m(\u001b[0m\u001b[0mbytes_io\u001b[0m\u001b[0;34m,\u001b[0m \u001b[0;34m**\u001b[0m\u001b[0mkw\u001b[0m\u001b[0;34m)\u001b[0m\u001b[0;34m\u001b[0m\u001b[0m\n\u001b[0m\u001b[1;32m    126\u001b[0m     \u001b[0mdata\u001b[0m \u001b[0;34m=\u001b[0m \u001b[0mbytes_io\u001b[0m\u001b[0;34m.\u001b[0m\u001b[0mgetvalue\u001b[0m\u001b[0;34m(\u001b[0m\u001b[0;34m)\u001b[0m\u001b[0;34m\u001b[0m\u001b[0m\n\u001b[1;32m    127\u001b[0m     \u001b[0;32mif\u001b[0m \u001b[0mfmt\u001b[0m \u001b[0;34m==\u001b[0m \u001b[0;34m'svg'\u001b[0m\u001b[0;34m:\u001b[0m\u001b[0;34m\u001b[0m\u001b[0m\n",
      "\u001b[0;32m/usr/local/lib/python3.6/site-packages/matplotlib/backend_bases.py\u001b[0m in \u001b[0;36mprint_figure\u001b[0;34m(self, filename, dpi, facecolor, edgecolor, orientation, format, **kwargs)\u001b[0m\n\u001b[1;32m   2261\u001b[0m                 \u001b[0morientation\u001b[0m\u001b[0;34m=\u001b[0m\u001b[0morientation\u001b[0m\u001b[0;34m,\u001b[0m\u001b[0;34m\u001b[0m\u001b[0m\n\u001b[1;32m   2262\u001b[0m                 \u001b[0mbbox_inches_restore\u001b[0m\u001b[0;34m=\u001b[0m\u001b[0m_bbox_inches_restore\u001b[0m\u001b[0;34m,\u001b[0m\u001b[0;34m\u001b[0m\u001b[0m\n\u001b[0;32m-> 2263\u001b[0;31m                 **kwargs)\n\u001b[0m\u001b[1;32m   2264\u001b[0m         \u001b[0;32mfinally\u001b[0m\u001b[0;34m:\u001b[0m\u001b[0;34m\u001b[0m\u001b[0m\n\u001b[1;32m   2265\u001b[0m             \u001b[0;32mif\u001b[0m \u001b[0mbbox_inches\u001b[0m \u001b[0;32mand\u001b[0m \u001b[0mrestore_bbox\u001b[0m\u001b[0;34m:\u001b[0m\u001b[0;34m\u001b[0m\u001b[0m\n",
      "\u001b[0;32m/usr/local/lib/python3.6/site-packages/matplotlib/backends/backend_agg.py\u001b[0m in \u001b[0;36mprint_png\u001b[0;34m(self, filename_or_obj, *args, **kwargs)\u001b[0m\n\u001b[1;32m    511\u001b[0m \u001b[0;34m\u001b[0m\u001b[0m\n\u001b[1;32m    512\u001b[0m     \u001b[0;32mdef\u001b[0m \u001b[0mprint_png\u001b[0m\u001b[0;34m(\u001b[0m\u001b[0mself\u001b[0m\u001b[0;34m,\u001b[0m \u001b[0mfilename_or_obj\u001b[0m\u001b[0;34m,\u001b[0m \u001b[0;34m*\u001b[0m\u001b[0margs\u001b[0m\u001b[0;34m,\u001b[0m \u001b[0;34m**\u001b[0m\u001b[0mkwargs\u001b[0m\u001b[0;34m)\u001b[0m\u001b[0;34m:\u001b[0m\u001b[0;34m\u001b[0m\u001b[0m\n\u001b[0;32m--> 513\u001b[0;31m         \u001b[0mFigureCanvasAgg\u001b[0m\u001b[0;34m.\u001b[0m\u001b[0mdraw\u001b[0m\u001b[0;34m(\u001b[0m\u001b[0mself\u001b[0m\u001b[0;34m)\u001b[0m\u001b[0;34m\u001b[0m\u001b[0m\n\u001b[0m\u001b[1;32m    514\u001b[0m         \u001b[0mrenderer\u001b[0m \u001b[0;34m=\u001b[0m \u001b[0mself\u001b[0m\u001b[0;34m.\u001b[0m\u001b[0mget_renderer\u001b[0m\u001b[0;34m(\u001b[0m\u001b[0;34m)\u001b[0m\u001b[0;34m\u001b[0m\u001b[0m\n\u001b[1;32m    515\u001b[0m         \u001b[0moriginal_dpi\u001b[0m \u001b[0;34m=\u001b[0m \u001b[0mrenderer\u001b[0m\u001b[0;34m.\u001b[0m\u001b[0mdpi\u001b[0m\u001b[0;34m\u001b[0m\u001b[0m\n",
      "\u001b[0;32m/usr/local/lib/python3.6/site-packages/matplotlib/backends/backend_agg.py\u001b[0m in \u001b[0;36mdraw\u001b[0;34m(self)\u001b[0m\n\u001b[1;32m    423\u001b[0m         \u001b[0mDraw\u001b[0m \u001b[0mthe\u001b[0m \u001b[0mfigure\u001b[0m \u001b[0musing\u001b[0m \u001b[0mthe\u001b[0m \u001b[0mrenderer\u001b[0m\u001b[0;34m\u001b[0m\u001b[0m\n\u001b[1;32m    424\u001b[0m         \"\"\"\n\u001b[0;32m--> 425\u001b[0;31m         \u001b[0mself\u001b[0m\u001b[0;34m.\u001b[0m\u001b[0mrenderer\u001b[0m \u001b[0;34m=\u001b[0m \u001b[0mself\u001b[0m\u001b[0;34m.\u001b[0m\u001b[0mget_renderer\u001b[0m\u001b[0;34m(\u001b[0m\u001b[0mcleared\u001b[0m\u001b[0;34m=\u001b[0m\u001b[0;32mTrue\u001b[0m\u001b[0;34m)\u001b[0m\u001b[0;34m\u001b[0m\u001b[0m\n\u001b[0m\u001b[1;32m    426\u001b[0m         \u001b[0;31m# acquire a lock on the shared font cache\u001b[0m\u001b[0;34m\u001b[0m\u001b[0;34m\u001b[0m\u001b[0m\n\u001b[1;32m    427\u001b[0m         \u001b[0mRendererAgg\u001b[0m\u001b[0;34m.\u001b[0m\u001b[0mlock\u001b[0m\u001b[0;34m.\u001b[0m\u001b[0macquire\u001b[0m\u001b[0;34m(\u001b[0m\u001b[0;34m)\u001b[0m\u001b[0;34m\u001b[0m\u001b[0m\n",
      "\u001b[0;32m/usr/local/lib/python3.6/site-packages/matplotlib/backends/backend_agg.py\u001b[0m in \u001b[0;36mget_renderer\u001b[0;34m(self, cleared)\u001b[0m\n\u001b[1;32m    448\u001b[0m \u001b[0;34m\u001b[0m\u001b[0m\n\u001b[1;32m    449\u001b[0m         \u001b[0;32mif\u001b[0m \u001b[0mneed_new_renderer\u001b[0m\u001b[0;34m:\u001b[0m\u001b[0;34m\u001b[0m\u001b[0m\n\u001b[0;32m--> 450\u001b[0;31m             \u001b[0mself\u001b[0m\u001b[0;34m.\u001b[0m\u001b[0mrenderer\u001b[0m \u001b[0;34m=\u001b[0m \u001b[0mRendererAgg\u001b[0m\u001b[0;34m(\u001b[0m\u001b[0mw\u001b[0m\u001b[0;34m,\u001b[0m \u001b[0mh\u001b[0m\u001b[0;34m,\u001b[0m \u001b[0mself\u001b[0m\u001b[0;34m.\u001b[0m\u001b[0mfigure\u001b[0m\u001b[0;34m.\u001b[0m\u001b[0mdpi\u001b[0m\u001b[0;34m)\u001b[0m\u001b[0;34m\u001b[0m\u001b[0m\n\u001b[0m\u001b[1;32m    451\u001b[0m             \u001b[0mself\u001b[0m\u001b[0;34m.\u001b[0m\u001b[0m_lastKey\u001b[0m \u001b[0;34m=\u001b[0m \u001b[0mkey\u001b[0m\u001b[0;34m\u001b[0m\u001b[0m\n\u001b[1;32m    452\u001b[0m         \u001b[0;32melif\u001b[0m \u001b[0mcleared\u001b[0m\u001b[0;34m:\u001b[0m\u001b[0;34m\u001b[0m\u001b[0m\n",
      "\u001b[0;32m/usr/local/lib/python3.6/site-packages/matplotlib/backends/backend_agg.py\u001b[0m in \u001b[0;36m__init__\u001b[0;34m(self, width, height, dpi)\u001b[0m\n\u001b[1;32m     95\u001b[0m         \u001b[0mself\u001b[0m\u001b[0;34m.\u001b[0m\u001b[0mwidth\u001b[0m \u001b[0;34m=\u001b[0m \u001b[0mwidth\u001b[0m\u001b[0;34m\u001b[0m\u001b[0m\n\u001b[1;32m     96\u001b[0m         \u001b[0mself\u001b[0m\u001b[0;34m.\u001b[0m\u001b[0mheight\u001b[0m \u001b[0;34m=\u001b[0m \u001b[0mheight\u001b[0m\u001b[0;34m\u001b[0m\u001b[0m\n\u001b[0;32m---> 97\u001b[0;31m         \u001b[0mself\u001b[0m\u001b[0;34m.\u001b[0m\u001b[0m_renderer\u001b[0m \u001b[0;34m=\u001b[0m \u001b[0m_RendererAgg\u001b[0m\u001b[0;34m(\u001b[0m\u001b[0mint\u001b[0m\u001b[0;34m(\u001b[0m\u001b[0mwidth\u001b[0m\u001b[0;34m)\u001b[0m\u001b[0;34m,\u001b[0m \u001b[0mint\u001b[0m\u001b[0;34m(\u001b[0m\u001b[0mheight\u001b[0m\u001b[0;34m)\u001b[0m\u001b[0;34m,\u001b[0m \u001b[0mdpi\u001b[0m\u001b[0;34m)\u001b[0m\u001b[0;34m\u001b[0m\u001b[0m\n\u001b[0m\u001b[1;32m     98\u001b[0m         \u001b[0mself\u001b[0m\u001b[0;34m.\u001b[0m\u001b[0m_filter_renderers\u001b[0m \u001b[0;34m=\u001b[0m \u001b[0;34m[\u001b[0m\u001b[0;34m]\u001b[0m\u001b[0;34m\u001b[0m\u001b[0m\n\u001b[1;32m     99\u001b[0m \u001b[0;34m\u001b[0m\u001b[0m\n",
      "\u001b[0;31mValueError\u001b[0m: Image size of 408630x11368 pixels is too large. It must be less than 2^16 in each direction."
     ]
    },
    {
     "data": {
      "text/plain": [
       "<Figure size 864x11376 with 158 Axes>"
      ]
     },
     "metadata": {},
     "output_type": "display_data"
    }
   ],
   "source": [
    "pm.traceplot(trace)"
   ]
  },
  {
   "cell_type": "code",
   "execution_count": null,
   "metadata": {},
   "outputs": [],
   "source": []
  }
 ],
 "metadata": {
  "kernelspec": {
   "display_name": "Python 3",
   "language": "python",
   "name": "python3"
  },
  "language_info": {
   "codemirror_mode": {
    "name": "ipython",
    "version": 3
   },
   "file_extension": ".py",
   "mimetype": "text/x-python",
   "name": "python",
   "nbconvert_exporter": "python",
   "pygments_lexer": "ipython3",
   "version": "3.6.5"
  }
 },
 "nbformat": 4,
 "nbformat_minor": 2
}
