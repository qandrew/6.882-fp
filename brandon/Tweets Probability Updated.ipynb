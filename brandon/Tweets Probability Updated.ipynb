{
 "cells": [
  {
   "cell_type": "code",
   "execution_count": null,
   "metadata": {
    "collapsed": true
   },
   "outputs": [],
   "source": [
    "import numpy as np\n",
    "import pandas as pd\n",
    "import pymc3 as pm\n",
    "import matplotlib.pyplot as plt\n",
    "import seaborn as sns\n",
    "import csv\n",
    "from os import listdir\n",
    "from os.path import isfile, join\n",
    "%matplotlib inline"
   ]
  },
  {
   "cell_type": "code",
   "execution_count": 2,
   "metadata": {
    "collapsed": true
   },
   "outputs": [],
   "source": [
    "path = '../RetweetDataAOAS/retweet_data/'\n",
    "root_tweet_names = [f for f in listdir(path) if isfile(join(path, f))]\n",
    "num_root_tweets = len(root_tweet_names)"
   ]
  },
  {
   "cell_type": "code",
   "execution_count": 3,
   "metadata": {
    "collapsed": true
   },
   "outputs": [],
   "source": [
    "# Produces a dictionary of dataframes for each tweetfile, with initial \n",
    "# preprocessing\n",
    "fields = ['RetweetCount', 'UserId', 'ScreenName', 'FollowerCount', \n",
    "          'DistanceFromRoot','Time', 'ParentScreenName', 'Text']\n",
    "tweet_dfs = []\n",
    "for i in range(num_root_tweets):\n",
    "    tweet_df = pd.read_csv(path+root_tweet_names[i], sep=\"\\t\", header=None, \n",
    "                         quoting=csv.QUOTE_NONE, names=fields, encoding = \"ISO-8859-1\")\n",
    "    \n",
    "    tweet_df['Time'] = pd.to_datetime(tweet_df['Time'])\n",
    "\n",
    "    screen_name_index = {}\n",
    "    for index, row in tweet_df.iterrows():\n",
    "        screen_name_index[row['ScreenName']] = index\n",
    "        \n",
    "    tweet_df['ParentDfIndex'] = tweet_df['ParentScreenName'].map(screen_name_index)\n",
    "    \n",
    "    tweet_df[['FollowerCount','UserId']] = tweet_df[['FollowerCount','UserId']].apply(pd.to_numeric, errors='coerce')\n",
    "    tweet_df[['FollowerCount','UserId']] = tweet_df[['FollowerCount','UserId']].fillna(0)\n",
    "    \n",
    "    tweet_dfs.append(tweet_df)"
   ]
  },
  {
   "cell_type": "code",
   "execution_count": null,
   "metadata": {
    "collapsed": true
   },
   "outputs": [],
   "source": []
  },
  {
   "cell_type": "code",
   "execution_count": 4,
   "metadata": {
    "collapsed": true
   },
   "outputs": [],
   "source": [
    "# Returns a dictionary of reaction times S_j^x keyed by user id\n",
    "def generate_reaction_times(tweet_df):\n",
    "    reaction_times = []\n",
    "    for index, row in tweet_df.iterrows():\n",
    "        if index > 0:\n",
    "            reaction_time = row['Time'] - tweet_df.at[row['ParentDfIndex'],\n",
    "                                                      'Time']\n",
    "            reaction_times.append(reaction_time)\n",
    "    return reaction_times"
   ]
  },
  {
   "cell_type": "code",
   "execution_count": 5,
   "metadata": {
    "collapsed": true
   },
   "outputs": [],
   "source": [
    "# Returns a dictionary of M_j^x keyed by user id\n",
    "def generate_number_of_follower_who_retweet(tweet_df):\n",
    "    number_of_follower_who_retweet = {}\n",
    "    for index, row in tweet_df.iterrows():\n",
    "        if row['UserId'] not in number_of_follower_who_retweet:\n",
    "            number_of_follower_who_retweet[row['UserId']] = 0\n",
    "        parent_user_id = tweet_df.at[row['ParentDfIndex'], 'UserId']\n",
    "        number_of_follower_who_retweet[parent_user_id] += 1\n",
    "    return number_of_follower_who_retweet"
   ]
  },
  {
   "cell_type": "code",
   "execution_count": 6,
   "metadata": {
    "collapsed": true
   },
   "outputs": [],
   "source": [
    "log_s_j_x = []\n",
    "for i in range(num_root_tweets):\n",
    "    s_j_x = sorted(generate_reaction_times(tweet_dfs[i]))\n",
    "    log_s_j_x.append([np.log(j.seconds) for j in s_j_x])\n",
    "fake_logs = [[1 for i in range(num_root_tweets)] for j in range(5)]"
   ]
  },
  {
   "cell_type": "code",
   "execution_count": 15,
   "metadata": {
    "collapsed": false
   },
   "outputs": [
    {
     "data": {
      "text/plain": [
       "numpy.float64"
      ]
     },
     "execution_count": 15,
     "metadata": {},
     "output_type": "execute_result"
    }
   ],
   "source": [
    "type(log_s_j_x[0][1])"
   ]
  },
  {
   "cell_type": "code",
   "execution_count": 7,
   "metadata": {
    "collapsed": true
   },
   "outputs": [],
   "source": [
    "# pymc3 model \n",
    "with pm.Model() as twitter_model:\n",
    "    # global model parameters\n",
    "    # Time-related hyperparameters\n",
    "    alpha = pm.Normal('alpha', mu=0, sd=100) #eq 5\n",
    "    sigma_squared_delta = pm.InverseGamma('sigma_squared_delta', alpha=2, beta=2) # eq 6\n",
    "    log_a_tau = pm.Normal('log_a_tau', mu=0, sd=10) # eq 7\n",
    "    b_tau = pm.Gamma('b_tau', alpha=1, beta=.002) # eq 8\n",
    "    \n",
    "    # binom model for graph structure\n",
    "    beta_0 = pm.Normal('beta_0', mu=0, sd=100) # eq 12\n",
    "    beta_F = pm.Normal('beta_F', mu=0, sd=100) # eq 13\n",
    "    beta_d = pm.Normal('beta_d', mu=0, sd=100) # eq 14\n",
    "    sigma_squared_b = pm.InverseGamma('sigma_squared_b', alpha=0.5, beta=0.5, testval=10000) # eq 15\n",
    "    \n",
    "    a_tau = pm.Deterministic('a_tau', pm.math.exp(log_a_tau))\n",
    "    \n",
    "    # tweet specific parameters, keyed by tweet x\n",
    "    t_x_dict = {}\n",
    "    a_x_dict = {}\n",
    "    log_s = {}\n",
    "    M_dict = {}\n",
    "    b_dict = {}\n",
    "    likelihood_training_tweets = {}\n",
    "    \n",
    "    for x in range(2): # num_root_tweets\n",
    "        # setting up observed data\n",
    "        tweet_df = tweet_dfs[x]\n",
    "        log_s = [np.log(i.seconds) for i in generate_reaction_times(tweet_df)]\n",
    "        tweet_df_users = list(tweet_df['UserId'])\n",
    "        num_followers = generate_number_of_follower_who_retweet(tweet_df)\n",
    "        \n",
    "        # log-normal model for reaction times\n",
    "        t_x_dict[x] = pm.InverseGamma('tau_{}_squared'.format(x), alpha=a_tau, beta=b_tau) # eq 4\n",
    "        a_x_dict[x] = pm.Normal('alpha_{}'.format(x), mu=alpha, tau=1/sigma_squared_delta) # eq 3\n",
    "        # log_s[x] = pm.Normal('log_s_{}'.format(x), mu=a_x_dict[x], tau=1/t_x_dict[x], observed=log_s) # eq 2\n",
    "        log_s[x] = {}\n",
    "        \n",
    "        # binomial model for retweet graph structure\n",
    "        M_dict[x] = {}\n",
    "        b_dict[x] = {}\n",
    "        \n",
    "        for j, row in tweet_dfs[x].iterrows():\n",
    "            if j > 10: \n",
    "                break # try for performance reasons\n",
    "            f_j_x = int(row['FollowerCount']) \n",
    "            d_j_x = row['DistanceFromRoot']\n",
    "            mu_j_x = pm.Deterministic('mu_{}_{}'.format(x,j), \n",
    "                    beta_0 + beta_F*pm.math.log(f_j_x + 1) + beta_d*pm.math.log(d_j_x + 1)) # eq 11\n",
    "            logit_b_j_x = pm.Normal('logit_b_{}_{}'.format(x,j), mu=mu_j_x, tau=1/sigma_squared_b) # eq 10\n",
    "            \n",
    "            b_dict[x][j] = pm.Deterministic('b_{}_{}'.format(x,j), pm.math.invlogit(logit_b_j_x))\n",
    "            \n",
    "            M_dict[x][j] = pm.Binomial('M_{}_{}'.format(x, j), n = f_j_x, p = b_dict[x][j], observed=num_followers[tweet_df_users[j]]) # eq 9\n",
    "            \n",
    "            log_s[x][j] = pm.Normal('log_s_{}_{}'.format(x, j), mu=a_x_dict[x], tau=t_x_dict[x]**0.5, observed=log_s_j_x[x][j]) # eq 2\n",
    "        \n",
    "#         # likelihood of observation\n",
    "#         likelihood_training_tweets[x] = M_dict[x][0]\n",
    "#         for j in range(1, len(tweet_dfs[x])): # len(tweet_dfs[x])\n",
    "#             likelihood_training_tweets[x] *= (log_s[x][j] * M_dict[x][j])\n",
    "        \n",
    "#         temp = pm.Deterministic('obs_likelihood_{}'.format(x), likelihood_training_tweets[x])\n"
   ]
  },
  {
   "cell_type": "code",
   "execution_count": null,
   "metadata": {
    "collapsed": false
   },
   "outputs": [
    {
     "name": "stderr",
     "output_type": "stream",
     "text": [
      "Auto-assigning NUTS sampler...\n",
      "Initializing NUTS using jitter+adapt_diag...\n",
      "Multiprocess sampling (4 chains in 4 jobs)\n",
      "NUTS: [logit_b_1_10, logit_b_1_9, logit_b_1_8, logit_b_1_7, logit_b_1_6, logit_b_1_5, logit_b_1_4, logit_b_1_3, logit_b_1_2, logit_b_1_1, logit_b_1_0, alpha_1, tau_1_squared_log__, logit_b_0_10, logit_b_0_9, logit_b_0_8, logit_b_0_7, logit_b_0_6, logit_b_0_5, logit_b_0_4, logit_b_0_3, logit_b_0_2, logit_b_0_1, logit_b_0_0, alpha_0, tau_0_squared_log__, sigma_squared_b_log__, beta_d, beta_F, beta_0, b_tau_log__, log_a_tau, sigma_squared_delta_log__, alpha]\n",
      " 42%|████▏     | 840/2000 [02:34<03:33,  5.44it/s]"
     ]
    }
   ],
   "source": [
    "# run model\n",
    "with twitter_model:\n",
    "    trace = pm.sample(1000,tune=1000, cores=4)"
   ]
  },
  {
   "cell_type": "code",
   "execution_count": 26,
   "metadata": {
    "collapsed": false
   },
   "outputs": [
    {
     "name": "stderr",
     "output_type": "stream",
     "text": [
      "/usr/local/lib/python3.6/site-packages/matplotlib/axes/_axes.py:6462: UserWarning: The 'normed' kwarg is deprecated, and has been replaced by the 'density' kwarg.\n",
      "  warnings.warn(\"The 'normed' kwarg is deprecated, and has been \"\n"
     ]
    },
    {
     "name": "stdout",
     "output_type": "stream",
     "text": [
      "beta_0: -28.1453862526(63.7483241683)\n",
      "beta_F: 1.15377397563(4.28704115041)\n",
      "beta_d: -87.4991789206(66.4658626664)\n",
      "alpha: 4.95063914575(0.719669984333)\n",
      "sigma_squared_delta: 1.13709581723(1.04464428218)\n"
     ]
    },
    {
     "data": {
      "image/png": "[encoded data removed]",
      "text/plain": [
       "<Figure size 432x288 with 5 Axes>"
      ]
     },
     "metadata": {},
     "output_type": "display_data"
    }
   ],
   "source": [
    "# printing \n",
    "with twitter_model:\n",
    "    imp_dists = ['beta_0', 'beta_F', 'beta_d', 'alpha', 'sigma_squared_delta']\n",
    "#                 'beta_0', 'beta_F', 'beta_d']\n",
    "    fig, axs = plt.subplots(ncols=len(imp_dists))\n",
    "    for i in range(len(imp_dists)):\n",
    "        var = imp_dists[i]\n",
    "        sns.distplot(trace[var], ax=axs[i]);\n",
    "        print(var + \": \" + str(np.mean(trace[var])) + \"(\" + str(np.std(trace[var])) + \")\")\n"
   ]
  },
  {
   "cell_type": "code",
   "execution_count": 23,
   "metadata": {
    "collapsed": false,
    "scrolled": false
   },
   "outputs": [
    {
     "ename": "AttributeError",
     "evalue": "'MultiTrace' object has no attribute 'variables'",
     "output_type": "error",
     "traceback": [
      "\u001b[0;31m---------------------------------------------------------------------------\u001b[0m",
      "\u001b[0;31mAttributeError\u001b[0m                            Traceback (most recent call last)",
      "\u001b[0;32m<ipython-input-23-202763b2a308>\u001b[0m in \u001b[0;36m<module>\u001b[0;34m()\u001b[0m\n\u001b[1;32m      1\u001b[0m \u001b[0;32mwith\u001b[0m \u001b[0mtwitter_model\u001b[0m\u001b[0;34m:\u001b[0m\u001b[0;34m\u001b[0m\u001b[0m\n\u001b[0;32m----> 2\u001b[0;31m     \u001b[0mprint\u001b[0m\u001b[0;34m(\u001b[0m\u001b[0mtrace\u001b[0m\u001b[0;34m.\u001b[0m\u001b[0mvariables\u001b[0m\u001b[0;34m)\u001b[0m\u001b[0;34m\u001b[0m\u001b[0m\n\u001b[0m",
      "\u001b[0;32m/usr/local/lib/python3.6/site-packages/pymc3/backends/base.py\u001b[0m in \u001b[0;36m__getattr__\u001b[0;34m(self, name)\u001b[0m\n\u001b[1;32m    338\u001b[0m             \u001b[0;32mreturn\u001b[0m \u001b[0mself\u001b[0m\u001b[0;34m.\u001b[0m\u001b[0mget_sampler_stats\u001b[0m\u001b[0;34m(\u001b[0m\u001b[0mname\u001b[0m\u001b[0;34m)\u001b[0m\u001b[0;34m\u001b[0m\u001b[0m\n\u001b[1;32m    339\u001b[0m         raise AttributeError(\"'{}' object has no attribute '{}'\".format(\n\u001b[0;32m--> 340\u001b[0;31m             type(self).__name__, name))\n\u001b[0m\u001b[1;32m    341\u001b[0m \u001b[0;34m\u001b[0m\u001b[0m\n\u001b[1;32m    342\u001b[0m     \u001b[0;32mdef\u001b[0m \u001b[0m__len__\u001b[0m\u001b[0;34m(\u001b[0m\u001b[0mself\u001b[0m\u001b[0;34m)\u001b[0m\u001b[0;34m:\u001b[0m\u001b[0;34m\u001b[0m\u001b[0m\n",
      "\u001b[0;31mAttributeError\u001b[0m: 'MultiTrace' object has no attribute 'variables'"
     ]
    }
   ],
   "source": [
    "with twitter_model:\n",
    "    print(trac)"
   ]
  },
  {
   "cell_type": "code",
   "execution_count": null,
   "metadata": {
    "collapsed": true
   },
   "outputs": [],
   "source": []
  }
 ],
 "metadata": {
  "kernelspec": {
   "display_name": "Python 3",
   "language": "python",
   "name": "python3"
  },
  "language_info": {
   "codemirror_mode": {
    "name": "ipython",
    "version": 3
   },
   "file_extension": ".py",
   "mimetype": "text/x-python",
   "name": "python",
   "nbconvert_exporter": "python",
   "pygments_lexer": "ipython3",
   "version": "3.6.5"
  }
 },
 "nbformat": 4,
 "nbformat_minor": 2
}
