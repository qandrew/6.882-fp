{
 "cells": [
  {
   "cell_type": "code",
   "execution_count": 1,
   "metadata": {},
   "outputs": [],
   "source": [
    "import numpy as np\n",
    "import numpy.linalg as npla"
   ]
  },
  {
   "cell_type": "code",
   "execution_count": 5,
   "metadata": {},
   "outputs": [],
   "source": [
    "def gaussian(x, sigma, sampled=None):\n",
    "    \"\"\"\n",
    "\n",
    "    \"\"\"\n",
    "    if sampled is None:\n",
    "        L = npla.cholesky(sigma)\n",
    "        z = np.random.randn(x.shape[0], 1)\n",
    "        return np.dot(L, z+x)\n",
    "    else:\n",
    "        return np.exp(-0.5*np.dot( (x-sampled).T, np.dot(npla.inv(sigma), (x-sampled))))[0,0]"
   ]
  },
  {
   "cell_type": "code",
   "execution_count": 26,
   "metadata": {},
   "outputs": [
    {
     "data": {
      "text/plain": [
       "matrix([[ 0.0850172 ,  1.0850172 ],\n",
       "        [ 0.78998812,  1.78998812]])"
      ]
     },
     "execution_count": 26,
     "metadata": {},
     "output_type": "execute_result"
    }
   ],
   "source": [
    "# q = np.matrix([[1, 2], [3, 4]])\n",
    "x = np.array([1,2])\n",
    "# q.shape\n",
    "# q2.shape\n",
    "\n",
    "sigma = np.matrix([[1,0],[0,1]])\n",
    "\n",
    "gaussian(x,sigma)"
   ]
  },
  {
   "cell_type": "code",
   "execution_count": 33,
   "metadata": {},
   "outputs": [],
   "source": [
    "# plot gaussian\n",
    "\n",
    "mu, sigma = 0, 0.1\n",
    "s = np.random.normal(mu, sigma, 1000)"
   ]
  },
  {
   "cell_type": "code",
   "execution_count": 34,
   "metadata": {},
   "outputs": [
    {
     "data": {
      "text/plain": [
       "[<matplotlib.lines.Line2D at 0x7f11c3dae610>]"
      ]
     },
     "execution_count": 34,
     "metadata": {},
     "output_type": "execute_result"
    },
    {
     "data": {
      "image/png": "[encoded data removed]",
      "text/plain": [
       "<matplotlib.figure.Figure at 0x7f11c3dae5d0>"
      ]
     },
     "metadata": {},
     "output_type": "display_data"
    }
   ],
   "source": [
    "import matplotlib.pyplot as plt\n",
    "\n",
    "count, bins, ignored = plt.hist(s, 30, normed=True)\n",
    "plt.plot(bins, 1/(sigma * np.sqrt(2 * np.pi)) *\n",
    "     np.exp( - (bins - mu)**2 / (2 * sigma**2) ),\n",
    "     linewidth=2, color='r')"
   ]
  },
  {
   "cell_type": "code",
   "execution_count": 35,
   "metadata": {},
   "outputs": [],
   "source": [
    "import numpy as np\n",
    "import matplotlib.pyplot as plt\n",
    "import matplotlib.mlab as mlab\n",
    "\n",
    "def q(x, y):\n",
    "  g1 = mlab.bivariate_normal(x, y, 1.0, 1.0, -1, -1, -0.8)\n",
    "  g2 = mlab.bivariate_normal(x, y, 1.5, 0.8, 1, 2, 0.6)\n",
    "  return 0.6*g1+28.4*g2/(0.6+28.4)"
   ]
  },
  {
   "cell_type": "code",
   "execution_count": 45,
   "metadata": {},
   "outputs": [
    {
     "name": "stdout",
     "output_type": "stream",
     "text": [
      "(1, 10)\n",
      "[-5 -4 -3 -2 -1  0  1  2  3  4]\n",
      "[[-5 -4 -3 -2 -1  0  1  2  3  4]]\n",
      "(10, 1)\n",
      "[[-0.0052475  -0.00386885  0.01556126 -0.02288393  0.02932917 -0.00529407\n",
      "   0.02932917 -0.02288393  0.01556126 -0.00386885]\n",
      " [-0.00386885  0.01723208 -0.00529407  0.04564726 -0.05655279 -0.01799396\n",
      "  -0.05655279  0.04564726 -0.00529407  0.01723208]\n",
      " [ 0.01556126 -0.00529407 -0.04172151  0.03232054 -0.05440211  0.04579094\n",
      "  -0.05440211  0.03232054 -0.04172151 -0.00529407]\n",
      " [-0.02288393  0.04564726  0.03232054  0.12366978 -0.19178485 -0.18920062\n",
      "  -0.19178485  0.12366978  0.03232054  0.04564726]\n",
      " [ 0.02932917 -0.05655279 -0.05440211 -0.19178485  0.45464871  0.84147098\n",
      "   0.45464871 -0.19178485 -0.05440211 -0.05655279]\n",
      " [-0.00529407 -0.01799396  0.04579094 -0.18920062  0.84147098         nan\n",
      "   0.84147098 -0.18920062  0.04579094 -0.01799396]\n",
      " [ 0.02932917 -0.05655279 -0.05440211 -0.19178485  0.45464871  0.84147098\n",
      "   0.45464871 -0.19178485 -0.05440211 -0.05655279]\n",
      " [-0.02288393  0.04564726  0.03232054  0.12366978 -0.19178485 -0.18920062\n",
      "  -0.19178485  0.12366978  0.03232054  0.04564726]\n",
      " [ 0.01556126 -0.00529407 -0.04172151  0.03232054 -0.05440211  0.04579094\n",
      "  -0.05440211  0.03232054 -0.04172151 -0.00529407]\n",
      " [-0.00386885  0.01723208 -0.00529407  0.04564726 -0.05655279 -0.01799396\n",
      "  -0.05655279  0.04564726 -0.00529407  0.01723208]]\n",
      "(10, 10)\n"
     ]
    },
    {
     "name": "stderr",
     "output_type": "stream",
     "text": [
      "/usr/local/lib/python2.7/dist-packages/ipykernel_launcher.py:8: RuntimeWarning: invalid value encountered in divide\n",
      "  \n"
     ]
    },
    {
     "data": {
      "image/png": "[encoded data removed]",
      "text/plain": [
       "<matplotlib.figure.Figure at 0x7f11c3e53490>"
      ]
     },
     "metadata": {},
     "output_type": "display_data"
    }
   ],
   "source": [
    "x = np.arange(-5, 5, 1)\n",
    "y = np.arange(-5, 5, 1)\n",
    "xx, yy = np.meshgrid(x, y, sparse=True)\n",
    "print xx.shape\n",
    "print x\n",
    "print xx\n",
    "print yy.shape\n",
    "z = np.sin(xx**2 + yy**2) / (xx**2 + yy**2)\n",
    "print z\n",
    "print z.shape\n",
    "h = plt.contourf(x,y,z)"
   ]
  },
  {
   "cell_type": "code",
   "execution_count": 47,
   "metadata": {},
   "outputs": [
    {
     "data": {
      "text/plain": [
       "array([[50, 41, 34, 29, 26, 25, 26, 29, 34, 41],\n",
       "       [41, 32, 25, 20, 17, 16, 17, 20, 25, 32],\n",
       "       [34, 25, 18, 13, 10,  9, 10, 13, 18, 25],\n",
       "       [29, 20, 13,  8,  5,  4,  5,  8, 13, 20],\n",
       "       [26, 17, 10,  5,  2,  1,  2,  5, 10, 17],\n",
       "       [25, 16,  9,  4,  1,  0,  1,  4,  9, 16],\n",
       "       [26, 17, 10,  5,  2,  1,  2,  5, 10, 17],\n",
       "       [29, 20, 13,  8,  5,  4,  5,  8, 13, 20],\n",
       "       [34, 25, 18, 13, 10,  9, 10, 13, 18, 25],\n",
       "       [41, 32, 25, 20, 17, 16, 17, 20, 25, 32]])"
      ]
     },
     "execution_count": 47,
     "metadata": {},
     "output_type": "execute_result"
    }
   ],
   "source": [
    "xx**2 + yy**2"
   ]
  },
  {
   "cell_type": "code",
   "execution_count": 43,
   "metadata": {},
   "outputs": [
    {
     "name": "stdout",
     "output_type": "stream",
     "text": [
      "[array([[-5, -4, -3, -2, -1,  0,  1,  2,  3,  4]]), array([[-5],\n",
      "       [-4],\n",
      "       [-3],\n",
      "       [-2],\n",
      "       [-1],\n",
      "       [ 0],\n",
      "       [ 1],\n",
      "       [ 2],\n",
      "       [ 3],\n",
      "       [ 4]])]\n"
     ]
    }
   ],
   "source": [
    "x = np.arange(-5, 5, 1)\n",
    "y = np.arange(-5, 5, 1)\n",
    "q = np.meshgrid(x, y, sparse=True)\n",
    "print q\n",
    "# z = np.sin(xx**2 + yy**2) / (xx**2 + yy**2)\n",
    "# h = plt.contourf(x,y,z)"
   ]
  }
 ],
 "metadata": {
  "kernelspec": {
   "display_name": "Python 2",
   "language": "python",
   "name": "python2"
  },
  "language_info": {
   "codemirror_mode": {
    "name": "ipython",
    "version": 2
   },
   "file_extension": ".py",
   "mimetype": "text/x-python",
   "name": "python",
   "nbconvert_exporter": "python",
   "pygments_lexer": "ipython2",
   "version": "2.7.12"
  }
 },
 "nbformat": 4,
 "nbformat_minor": 2
}
