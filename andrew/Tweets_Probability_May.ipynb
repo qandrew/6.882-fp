{
 "cells": [
  {
   "cell_type": "code",
   "execution_count": 1,
   "metadata": {},
   "outputs": [
    {
     "name": "stderr",
     "output_type": "stream",
     "text": [
      "WARNING (theano.tensor.blas): Using NumPy C-API based implementation for BLAS functions.\n"
     ]
    }
   ],
   "source": [
    "import numpy as np\n",
    "import pandas as pd\n",
    "import pymc3 as pm\n",
    "import matplotlib.pyplot as plt\n",
    "import seaborn as sns\n",
    "import csv\n",
    "%matplotlib inline"
   ]
  },
  {
   "cell_type": "code",
   "execution_count": 2,
   "metadata": {},
   "outputs": [],
   "source": [
    "from os import listdir\n",
    "from os.path import isfile, join\n",
    "path = '../RetweetDataAOAS/retweet_data/'\n",
    "root_tweet_names = [f for f in listdir(path) if isfile(join(path, f))]\n",
    "num_root_tweets = len(root_tweet_names)"
   ]
  },
  {
   "cell_type": "code",
   "execution_count": 3,
   "metadata": {},
   "outputs": [],
   "source": [
    "# Produces a dictionary of dataframes for each tweetfile, with initial \n",
    "# preprocessing\n",
    "fields = ['RetweetCount', 'UserId', 'ScreenName', 'FollowerCount', \n",
    "          'DistanceFromRoot','Time', 'ParentScreenName', 'Text']\n",
    "tweet_dfs = []\n",
    "for i in range(num_root_tweets):\n",
    "    tweet_df = pd.read_csv(path+root_tweet_names[i], sep=\"\\t\", header=None, \n",
    "                         quoting=csv.QUOTE_NONE, names=fields, encoding = \"ISO-8859-1\")\n",
    "    \n",
    "    tweet_df['Time'] = pd.to_datetime(tweet_df['Time'])\n",
    "\n",
    "    screen_name_index = {}\n",
    "    for index, row in tweet_df.iterrows():\n",
    "        screen_name_index[row['ScreenName']] = index\n",
    "        \n",
    "    tweet_df['ParentDfIndex'] = tweet_df['ParentScreenName'].map(screen_name_index)\n",
    "    \n",
    "    tweet_df[['FollowerCount','UserId']] = tweet_df[['FollowerCount','UserId']].apply(pd.to_numeric, errors='coerce')\n",
    "    tweet_df[['FollowerCount','UserId']] = tweet_df[['FollowerCount','UserId']].fillna(0)\n",
    "    \n",
    "    tweet_dfs.append(tweet_df)"
   ]
  },
  {
   "cell_type": "code",
   "execution_count": 4,
   "metadata": {},
   "outputs": [],
   "source": [
    "# Returns a dictionary of reaction times S_j^x keyed by user id\n",
    "def generate_reaction_times(tweet_df):\n",
    "    reaction_times = {}\n",
    "    for index, row in tweet_df.iterrows():\n",
    "        if index > 0:\n",
    "            reaction_time = row['Time'] - tweet_df.at[row['ParentDfIndex'],\n",
    "                                                      'Time']\n",
    "            reaction_times[row['UserId']] = reaction_time\n",
    "    return reaction_times"
   ]
  },
  {
   "cell_type": "code",
   "execution_count": 5,
   "metadata": {},
   "outputs": [],
   "source": [
    "# Returns a dictionary of M_j^x keyed by user id\n",
    "def generate_number_of_follower_who_retweet(tweet_df):\n",
    "    number_of_follower_who_retweet = {}\n",
    "    for index, row in tweet_df.iterrows():\n",
    "        if row['UserId'] not in number_of_follower_who_retweet:\n",
    "            number_of_follower_who_retweet[row['UserId']] = 0\n",
    "        parent_user_id = tweet_df.at[row['ParentDfIndex'], 'UserId']\n",
    "        number_of_follower_who_retweet[parent_user_id] += 1\n",
    "    return number_of_follower_who_retweet"
   ]
  },
  {
   "cell_type": "code",
   "execution_count": 6,
   "metadata": {},
   "outputs": [],
   "source": [
    "log_s_j_x = []\n",
    "for i in range(num_root_tweets):\n",
    "    s_j_x = sorted(generate_reaction_times(tweet_dfs[i]).values())\n",
    "    log_s_j_x.append([np.log(i.seconds) for i in s_j_x])\n",
    "fake_logs = [[1 for i in range(num_root_tweets)] for j in range(5)]"
   ]
  },
  {
   "cell_type": "code",
   "execution_count": null,
   "metadata": {},
   "outputs": [],
   "source": [
    "# pymc3 model \n",
    "with pm.Model() as twitter_model:\n",
    "    # global model parameters\n",
    "    # Time-related hyperparameters\n",
    "    alpha = pm.Normal('alpha', mu=0, sd=100) #eq 5\n",
    "    sigma_squared_delta = pm.InverseGamma('sigma_squared_delta', alpha=2, beta=2) # eq 6\n",
    "    log_a_tau = pm.Normal('log_a_tau', mu=0, sd=10) # eq 7\n",
    "    b_tau = pm.Gamma('b_tau', alpha=1, beta=.002) # eq 8\n",
    "    \n",
    "    # binom model for graph structure\n",
    "    beta_0 = pm.Normal('beta_0', mu=0, sd=100) # eq 12\n",
    "    beta_F = pm.Normal('beta_F', mu=0, sd=100) # eq 13\n",
    "    beta_d = pm.Normal('beta_d', mu=0, sd=100) # eq 14\n",
    "    sigma_squared_b = pm.InverseGamma('sigma_squared_b', alpha=0.5, beta=0.5, testval=10000) # eq 15\n",
    "    \n",
    "    # log-normal model for reaction times, nonrecursive...\n",
    "    a_tau = pm.Deterministic('a_tau', pm.math.exp(log_a_tau))\n",
    "    for i in range(2): # num_root_tweets\n",
    "        t_x = pm.InverseGamma('tau_x_squared_' + str(i), alpha=a_tau, beta=b_tau) # eq 4\n",
    "        a_x = pm.Normal('alpha_x_' + str(i), mu=alpha, tau=1/sigma_squared_delta) # eq 3\n",
    "        log_S_j_x = pm.Normal('log_s_j_x_' + str(i), mu=a_x, tau=t_x**0.5, observed=log_s_j_x[i]) # eq 2\n",
    "        \n",
    "        # binom model for user\n",
    "        for x, row in tweet_dfs[i].iterrows():\n",
    "            if x > 5: \n",
    "                break # try for performance reasons\n",
    "            f_j_x = int(row['FollowerCount']) \n",
    "            d_j_x = row['DistanceFromRoot']\n",
    "            mu_j_x = pm.Deterministic('mu_j_x' + str(x) + \"_\" + str(i), \n",
    "                    beta_0 + beta_F*pm.math.log(f_j_x + 1) + beta_d*pm.math.log(d_j_x + 1)) # eq 11\n",
    "            logit_b_j_x = pm.Normal('logit_b_j_x' + str(x) + \"_\" + str(i), mu=mu_j_x, sd=sigma_squared_b) # eq 10\n",
    "            \n",
    "            b_j_x = pm.Deterministic('b_j_x' + str(x) + \"_\" + str(i), pm.math.invlogit(logit_b_j_x))\n",
    "            \n",
    "            M_j_x = pm.Binomial('M_j_x' + str(x) + \"_\" + str(i), n = f_j_x, p = b_j_x) # eq 9\n"
   ]
  },
  {
   "cell_type": "code",
   "execution_count": null,
   "metadata": {},
   "outputs": [
    {
     "name": "stderr",
     "output_type": "stream",
     "text": [
      "Multiprocess sampling (2 chains in 2 jobs)\n",
      "CompoundStep\n",
      ">CompoundStep\n",
      ">>Metropolis: [M_j_x10_1]\n",
      ">>Metropolis: [M_j_x9_1]\n",
      ">>Metropolis: [M_j_x8_1]\n",
      ">>Metropolis: [M_j_x7_1]\n",
      ">>Metropolis: [M_j_x6_1]\n",
      ">>Metropolis: [M_j_x5_1]\n",
      ">>Metropolis: [M_j_x4_1]\n",
      ">>Metropolis: [M_j_x3_1]\n",
      ">>Metropolis: [M_j_x2_1]\n",
      ">>Metropolis: [M_j_x1_1]\n",
      ">>Metropolis: [M_j_x0_1]\n",
      ">>Metropolis: [M_j_x10_0]\n",
      ">>Metropolis: [M_j_x9_0]\n",
      ">>Metropolis: [M_j_x8_0]\n",
      ">>Metropolis: [M_j_x7_0]\n",
      ">>Metropolis: [M_j_x6_0]\n",
      ">>Metropolis: [M_j_x5_0]\n",
      ">>Metropolis: [M_j_x4_0]\n",
      ">>Metropolis: [M_j_x3_0]\n",
      ">>Metropolis: [M_j_x2_0]\n",
      ">>Metropolis: [M_j_x1_0]\n",
      ">>Metropolis: [M_j_x0_0]\n",
      ">NUTS: [logit_b_j_x10_1, logit_b_j_x9_1, logit_b_j_x8_1, logit_b_j_x7_1, logit_b_j_x6_1, logit_b_j_x5_1, logit_b_j_x4_1, logit_b_j_x3_1, logit_b_j_x2_1, logit_b_j_x1_1, logit_b_j_x0_1, alpha_x_1, tau_x_squared_1_log__, logit_b_j_x10_0, logit_b_j_x9_0, logit_b_j_x8_0, logit_b_j_x7_0, logit_b_j_x6_0, logit_b_j_x5_0, logit_b_j_x4_0, logit_b_j_x3_0, logit_b_j_x2_0, logit_b_j_x1_0, logit_b_j_x0_0, alpha_x_0, tau_x_squared_0_log__, sigma_squared_b_log__, beta_d, beta_F, beta_0, b_tau_log__, log_a_tau, sigma_squared_delta_log__, alpha]\n"
     ]
    }
   ],
   "source": [
    "# run model\n",
    "with twitter_model:\n",
    "    trace = pm.sample(1000,tune=1000)"
   ]
  },
  {
   "cell_type": "code",
   "execution_count": 13,
   "metadata": {},
   "outputs": [
    {
     "name": "stdout",
     "output_type": "stream",
     "text": [
      "alpha: 7.63741452404(0.307661597266)\n",
      "sigma_squared_delta: 0.879298339925(0.622426993366)\n",
      "a_tau: 5284.71485981(5216.2298663)\n",
      "b_tau: 235.774049617(232.880233536)\n"
     ]
    },
    {
     "data": {
      "image/png": "[encoded data removed]",
      "text/plain": [
       "<matplotlib.figure.Figure at 0x7f5b788e8110>"
      ]
     },
     "metadata": {},
     "output_type": "display_data"
    }
   ],
   "source": [
    "# graph all of the \n",
    "with twitter_model:\n",
    "    imp_dists = ['alpha', 'sigma_squared_delta', 'a_tau', 'b_tau']\n",
    "#                 'beta_0', 'beta_F', 'beta_d']\n",
    "    fig, axs = plt.subplots(ncols=len(imp_dists))\n",
    "    for i in range(len(imp_dists)):\n",
    "        var = imp_dists[i]\n",
    "        sns.distplot(trace[var], ax=axs[i]);\n",
    "        print(var + \": \" + str(np.mean(trace[var])) + \"(\" + str(np.std(trace[var])) + \")\")\n"
   ]
  },
  {
   "cell_type": "code",
   "execution_count": null,
   "metadata": {},
   "outputs": [],
   "source": []
  }
 ],
 "metadata": {
  "kernelspec": {
   "display_name": "Python 2",
   "language": "python",
   "name": "python2"
  },
  "language_info": {
   "codemirror_mode": {
    "name": "ipython",
    "version": 2
   },
   "file_extension": ".py",
   "mimetype": "text/x-python",
   "name": "python",
   "nbconvert_exporter": "python",
   "pygments_lexer": "ipython2",
   "version": "2.7.12"
  }
 },
 "nbformat": 4,
 "nbformat_minor": 2
}
